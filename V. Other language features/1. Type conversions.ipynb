{
 "cells": [
  {
   "cell_type": "markdown",
   "id": "1674ff6e-8b29-490b-b7c4-e75a06d5e2f0",
   "metadata": {},
   "source": [
    "# Type conversions"
   ]
  },
  {
   "cell_type": "markdown",
   "id": "9c8e592f-18b7-4db7-acff-48bfb51f283e",
   "metadata": {},
   "source": [
    "## Implicit conversion\n",
    "\n",
    "Implicit conversions are automatically performed when a value is copied to a compatible type.\n",
    "\n",
    "Here, the value of a is promoted from short to int without the need of any explicit operator. This is known as a standard conversion. Standard conversions affect fundamental data types, and allow the conversions between numerical types (short to int, int to float, double to int...), to or from bool, and some pointer conversions.\n",
    "\n",
    "Converting to int from some smaller integer type, or to double from float is known as promotion, and is guaranteed to produce the exact same value in the destination type. Other conversions between arithmetic types may not always be able to represent the same value exactly:\n",
    "\n",
    "* If a negative integer value is converted to an unsigned type, the resulting value corresponds to its 2's complement bitwise representation (i.e., -1 becomes the largest value representable by the type, -2 the second largest, ...).\n",
    "* The conversions from/to bool consider false equivalent to zero (for numeric types) and to null pointer (for pointer types); true is equivalent to all other values and is converted to the equivalent of 1.\n",
    "* If the conversion is from a floating-point type to an integer type, the value is truncated (the decimal part is removed). If the result lies outside the range of representable values by the type, the conversion causes undefined behavior.\n",
    "* Otherwise, if the conversion is between numeric types of the same kind (integer-to-integer or floating-to-floating), the conversion is valid, but the value is implementation-specific (and may not be portable).\n",
    "\n",
    "Some of these conversions may imply a loss of precision, which the compiler can signal with a warning. This warning can be avoided with an explicit conversion.\n",
    "\n",
    "For non-fundamental types, arrays and functions implicitly convert to pointers, and pointers in general allow the following conversions:\n",
    "\n",
    "* Null pointers can be converted to pointers of any type\n",
    "* Pointers to any type can be converted to void pointers.\n",
    "* Pointer upcast: pointers to a derived class can be converted to a pointer of an accessible and unambiguous base class, without modifying its const or volatile qualification.\n"
   ]
  },
  {
   "cell_type": "code",
   "execution_count": null,
   "id": "c2d23faf",
   "metadata": {
    "vscode": {
     "languageId": "c++"
    }
   },
   "outputs": [],
   "source": [
    "short a = 2000;\n",
    "int b;\n",
    "b = a;\n",
    "std::cout << b;"
   ]
  },
  {
   "cell_type": "markdown",
   "id": "993064c3-dfce-4a1c-8d8e-5718ae0357c7",
   "metadata": {},
   "source": [
    "## Implicit conversions with classes\n",
    "\n",
    "In the world of classes, implicit conversions can be controlled by means of three member functions:\n",
    "\n",
    "* ***Single-argument constructors***: allow implicit conversion from a particular type to initialize an object.\n",
    "* ***Assignment operator***: allow implicit conversion from a particular type on assignments.\n",
    "* ***Type-cast operator***: allow implicit conversion to a particular type.\n",
    "\n",
    "For example, the type-cast operator uses a particular syntax: it uses the operator keyword followed by the destination type and an empty set of parentheses. Notice that the return type is the destination type and thus is not specified before the operator keyword.\n"
   ]
  },
  {
   "cell_type": "code",
   "execution_count": null,
   "id": "1bb5baa9",
   "metadata": {
    "vscode": {
     "languageId": "c++"
    }
   },
   "outputs": [],
   "source": [
    "class A {};\n",
    "\n",
    "class B {\n",
    "public:\n",
    "  // conversion from A (constructor):\n",
    "  B (const A& x) {}\n",
    "  // conversion from A (assignment):\n",
    "  B& operator= (const A& x) {return *this;}\n",
    "  // conversion to A (type-cast operator)\n",
    "  operator A() {return A();}\n",
    "};\n",
    "\n",
    "int main ()\n",
    "{\n",
    "  A foo;\n",
    "  B bar = foo;    // calls constructor\n",
    "  bar = foo;      // calls assignment\n",
    "  foo = bar;      // calls type-cast operator\n",
    "  return 0;\n",
    "}"
   ]
  },
  {
   "cell_type": "markdown",
   "id": "24115b01-4c2f-4430-b723-cbd189910017",
   "metadata": {},
   "source": [
    "## Keyword explicit\n",
    "\n",
    "On a function call, C++ allows one implicit conversion to happen for each argument. This may be somewhat problematic for classes because it is not always what is intended. For example, if we add the following function to the last example:\n",
    "\n",
    "```c++ \n",
    "void fn (B arg) {}\n",
    "```\n",
    "\n",
    "This function takes an argument of type B, but it could as well be called with an object of type A as an argument:\n",
    "\n",
    "```c++\n",
    "fn (foo);\n",
    "```\n",
    "\n",
    "This may or may not be what was intended. But, in any case, it can be prevented by marking the affected constructor with the explicit keyword.\n"
   ]
  },
  {
   "cell_type": "code",
   "execution_count": null,
   "id": "facb93ff",
   "metadata": {
    "vscode": {
     "languageId": "c++"
    }
   },
   "outputs": [],
   "source": [
    "class A {};\n",
    "\n",
    "class B {\n",
    "public:\n",
    "  explicit B (const A& x) {}\n",
    "  B& operator= (const A& x) {return *this;}\n",
    "  operator A() {return A();}\n",
    "};\n",
    "\n",
    "void fn (B x) {}\n",
    "\n",
    "int main ()\n",
    "{\n",
    "  A foo;\n",
    "  B bar (foo);\n",
    "  bar = foo;\n",
    "  foo = bar;\n",
    "  \n",
    "//  fn (foo);  // not allowed for explicit ctor.\n",
    "  fn (bar);  \n",
    "  return 0;\n",
    "}"
   ]
  },
  {
   "cell_type": "markdown",
   "id": "4c1596dd-5186-4927-b231-b580cf75db24",
   "metadata": {},
   "source": [
    "## Type casting\n",
    "\n",
    "C++ is a strong-typed language. Many conversions, specially those that imply a different interpretation of the value, require an explicit conversion, known in C++ as type-casting. There exist two main syntaxes for generic type-casting: functional and c-like:\n",
    "\n",
    "```c++\n",
    "double x = 10.3;\n",
    "int y;\n",
    "y = int (x);    // functional notation\n",
    "y = (int) x;    // c-like cast notation\n",
    "```\n",
    "\n",
    "This naturally includes pointer upcast (converting from pointer-to-derived to pointer-to-base), in the same way as allowed as an implicit conversion.\n",
    "\n",
    "But dynamic_cast can also downcast (convert from pointer-to-base to pointer-to-derived) polymorphic classes (those with virtual members) if -and only if- the pointed object is a valid complete object of the target type. For example:\n"
   ]
  },
  {
   "cell_type": "code",
   "execution_count": null,
   "id": "9da37f73",
   "metadata": {
    "vscode": {
     "languageId": "c++"
    }
   },
   "outputs": [],
   "source": [
    "class Base { virtual void dummy() {} };\n",
    "class Derived: public Base { int a; };\n",
    "\n",
    "int main () {\n",
    "  try {\n",
    "    Base * pba = new Derived;\n",
    "    Base * pbb = new Base;\n",
    "    Derived * pd;\n",
    "\n",
    "    pd = dynamic_cast<Derived*>(pba);\n",
    "    if (pd==0) std::cout << \"Null pointer on first type-cast.\\n\";\n",
    "\n",
    "    pd = dynamic_cast<Derived*>(pbb);\n",
    "    if (pd==0) std::cout << \"Null pointer on second type-cast.\\n\";\n",
    "\n",
    "  } catch (std::exception& e) {std::cout << \"Exception: \" << e.what();}\n",
    "}"
   ]
  },
  {
   "cell_type": "markdown",
   "id": "d6b639a0-8369-4617-ac7f-2232aaa8bd20",
   "metadata": {},
   "source": [
    "## `static_cast`\n",
    "\n",
    "`static_cast` can perform conversions between pointers to related classes, not only `upcasts` (from pointer-to-derived to pointer-to-base), but also downcasts (from pointer-to-base to pointer-to-derived). No checks are performed during runtime to guarantee that the object being converted is in fact a full object of the destination type. Therefore, it is up to the programmer to ensure that the conversion is safe. On the other side, it does not incur the overhead of the type-safety checks of `dynamic_cast`.\n",
    "\n",
    "```c++\n",
    "class Base {};\n",
    "class Derived: public Base {};\n",
    "Base * a = new Base;\n",
    "Derived * b = static_cast<Derived*>(a);\n",
    "```\n",
    "\n",
    "This would be valid code, although b would point to an incomplete object of the class and could lead to runtime errors if dereferenced.\n",
    "\n",
    "Therefore, `static_cast` is able to perform with pointers to classes not only the conversions allowed implicitly, but also their opposite conversions.\n",
    "\n",
    "`static_cast` is also able to perform all conversions allowed implicitly (not only those with pointers to classes), and is also able to perform the opposite of these. It can:\n",
    "\n",
    "* Convert from `void*` to any pointer type. In this case, it guarantees that if the void* value was obtained by converting from that same pointer type, the resulting pointer value is the same.\n",
    "* Convert integers, floating-point values and enum types to enum types.\n",
    "\n",
    "Additionally, static_cast can also perform the following:\n",
    "\n",
    "* Explicitly call a single-argument constructor or a conversion operator.\n",
    "* Convert to rvalue references.\n",
    "* Convert enum class values into integers or floating-point values.\n",
    "* Convert any type to void, evaluating and discarding the value.\n"
   ]
  },
  {
   "cell_type": "markdown",
   "id": "fc7f4fda-7207-4dbe-be08-973fdaa1d9ea",
   "metadata": {},
   "source": [
    "## `reinterpret_cast`\n",
    "\n",
    "`reinterpret_cast` converts any pointer type to any other pointer type, even of unrelated classes. The operation result is a simple binary copy of the value from one pointer to the other. All pointer conversions are allowed: neither the content pointed nor the pointer type itself is checked.\n",
    "\n",
    "It can also cast pointers to or from integer types. The format in which this integer value represents a pointer is platform-specific. The only guarantee is that a pointer cast to an integer type large enough to fully contain it (such as `intptr_t`), is guaranteed to be able to be cast back to a valid pointer.\n",
    "\n",
    "The conversions that can be performed by `reinterpret_cast` but not by `static_cast` are low-level operations based on reinterpreting the binary representations of the types, which on most cases results in code which is system-specific, and thus non-portable. For example:\n",
    "\n",
    "```c++\n",
    "class A { /* ... */ };\n",
    "class B { /* ... */ };\n",
    "A * a = new A;\n",
    "B * b = reinterpret_cast<B*>(a);\n",
    "```\n",
    "\n",
    "This code compiles, although it does not make much sense, since now b points to an object of a totally unrelated and likely incompatible class. Dereferencing b is unsafe."
   ]
  },
  {
   "cell_type": "markdown",
   "id": "faed6144-aac5-4bcb-8cd6-343bf0362878",
   "metadata": {},
   "source": [
    "## `const_cast`\n",
    "\n",
    "This type of casting manipulates the constancy of the object pointed by a pointer, either to be set or to be removed. For example, to pass a const pointer to a function that expects a non-const argument.\n",
    "\n",
    "The example below is guaranteed to work because function print does not write to the pointed object. Note though, that removing the constness of a pointed object to write to it causes undefined behavior.\n"
   ]
  },
  {
   "cell_type": "code",
   "execution_count": null,
   "id": "86d2cbf5",
   "metadata": {
    "vscode": {
     "languageId": "c++"
    }
   },
   "outputs": [],
   "source": [
    "void print (char * str)\n",
    "{\n",
    "  std::cout << str << '\\n';\n",
    "}\n",
    "\n",
    "int main () {\n",
    "  const char *c = \"sample text\";\n",
    "  print (const_cast<char*> (c));\n",
    "  return 0;\n",
    "}"
   ]
  },
  {
   "cell_type": "markdown",
   "id": "54512518-3ce1-4801-bf3a-0f0935be59ef",
   "metadata": {},
   "source": [
    "## `typeid`\n",
    "\n",
    "typeid allows you to check the type of an expression:\n",
    "\n",
    "```c++\n",
    "typeid (expression)\n",
    "```\n",
    "\n",
    "This operator returns a reference to a constant object of type `type_info` that is defined in the standard header `<typeinfo>`. A value returned by `typeid` can be compared with another value returned by `typeid` using operators `==` and `!=` or can serve to obtain a null-terminated character sequence representing the data type or class name by using its `name()` member.\n",
    "\n",
    "When `typeid` is applied to classes, `typeid` uses the RTTI to keep track of the type of dynamic objects. When `typeid` is applied to an expression whose type is a polymorphic class, the result is the type of the most derived complete object\n"
   ]
  },
  {
   "cell_type": "code",
   "execution_count": null,
   "id": "77e30655",
   "metadata": {
    "vscode": {
     "languageId": "c++"
    }
   },
   "outputs": [],
   "source": [
    "int *a ,b;\n",
    "a = 0; b = 0;\n",
    "if (typeid(a) != typeid(b))\n",
    "{\n",
    "    std::cout << \"a and b are of different types:\\n\";\n",
    "    std::cout << \"a is: \" << typeid(a).name() << '\\n';\n",
    "    std::cout << \"b is: \" << typeid(b).name() << '\\n';\n",
    "}"
   ]
  }
 ],
 "metadata": {
  "kernelspec": {
   "display_name": "C++ 14",
   "language": "c++",
   "name": "cpp14"
  },
  "language_info": {
   "file_extension": ".cpp",
   "mimetype": "text/markdown",
   "name": "C++",
   "version": "1.0.0a9"
  }
 },
 "nbformat": 4,
 "nbformat_minor": 5
}
