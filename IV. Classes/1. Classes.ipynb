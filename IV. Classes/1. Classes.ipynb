{
 "cells": [
  {
   "cell_type": "markdown",
   "id": "4bc800bc-d2eb-435b-bb6c-427124b36e06",
   "metadata": {},
   "source": [
    "# Classes\n",
    "\n",
    "Classes are an expanded concept of data structures: like data structures, they can contain data members, but they can also contain functions as members.\n",
    "\n",
    "An object is an instantiation of a class. In terms of variables, a class would be the type, and an object would be the variable.\n",
    "\n",
    "Classes are defined using either keyword class or keyword struct, with the following syntax:\n",
    "\n",
    "```cpp\n",
    "class class_name {\n",
    "  access_specifier_1:\n",
    "    member1;\n",
    "  access_specifier_2:\n",
    "    member2;\n",
    "  ...\n",
    "} object_names;\n",
    "```\n",
    "\n",
    "Where `class_name` is a valid identifier for the class, `object_names` is an optional list of names for objects of this class. The body of the declaration can contain members, which can either be data or function declarations, and optionally access specifiers.\n",
    "\n",
    "Classes have the same format as plain data structures, except that they can also include functions and have these new things called access specifiers. An access specifier is one of the following three keywords: `private`, `public` or `protected`. These specifiers modify the access rights for the members that follow them:\n",
    "\n",
    "* `private` members of a class are accessible only from within other members of the same class (or from their \"friends\").\n",
    "* `protected` members are accessible from other members of the same class (or from their \"friends\"), but also from members of their derived classes.\n",
    "* `public` members are accessible from anywhere where the object is visible.\n",
    "\n",
    "By default, all members of a class declared with the class keyword have private access for all its members. Therefore, any member that is declared before any other access specifier has private access automatically. For example:\n",
    "\n",
    "```cpp\n",
    "class Rectangle {\n",
    "    int width, height;\n",
    "  public:\n",
    "    void set_values (int,int);\n",
    "    int area (void);\n",
    "} rect;\n",
    "```"
   ]
  },
  {
   "cell_type": "code",
   "execution_count": null,
   "id": "882d5d63-3d68-4946-80d1-398711e607fd",
   "metadata": {
    "tags": []
   },
   "outputs": [],
   "source": [
    "class MyClass { \n",
    "  public:             \n",
    "    int myNum;        \n",
    "    std::string myString;\n",
    "};\n",
    "\n",
    "int main() {\n",
    "  MyClass myObj;\n",
    "  myObj.myNum = 15; \n",
    "  myObj.myString = \"Some text\";\n",
    "  std::cout << myObj.myNum << \"\\n\";\n",
    "  std::cout << myObj.myString;\n",
    "  return 0;\n",
    "}"
   ]
  }
 ],
 "metadata": {
  "kernelspec": {
   "display_name": "C++ 14",
   "language": "cpp",
   "name": "cpp14"
  },
  "language_info": {
   "file_extension": ".cpp",
   "mimetype": "text/markdown",
   "name": "text/markdown"
  },
  "widgets": {
   "application/vnd.jupyter.widget-state+json": {
    "state": {},
    "version_major": 2,
    "version_minor": 0
   }
  }
 },
 "nbformat": 4,
 "nbformat_minor": 5
}
