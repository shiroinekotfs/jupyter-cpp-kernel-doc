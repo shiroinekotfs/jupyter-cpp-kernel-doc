{
 "cells": [
  {
   "cell_type": "markdown",
   "id": "c2cd87c8-df6f-43a0-a0df-90150288c05c",
   "metadata": {},
   "source": [
    "# Widely support\n",
    "\n",
    "In C++ kernel for Jupyter, `widely support` means you can use another programming language, or using C++ but another C++ standard."
   ]
  },
  {
   "cell_type": "markdown",
   "id": "73d3ec86-c784-4bee-8d05-7044c5255691",
   "metadata": {},
   "source": [
    "## C in C++ kernel\n",
    "\n",
    "You can use C programming language in C++ kernel. It's because of the `g++` can compile `.c` as it does with `.cpp`\n",
    "\n",
    "> Tip: you can use C++ and C at the same time, in the same cell.\n",
    "\n",
    "Try it:"
   ]
  },
  {
   "cell_type": "code",
   "execution_count": null,
   "id": "1814749f-2ea2-40e3-b2dd-9f3472c4945d",
   "metadata": {
    "tags": []
   },
   "outputs": [],
   "source": [
    "printf(\"Hello World\\n\\n\");\n",
    "int x = 10;\n",
    "if (x == 5) printf(\"x is equal to 5\");\n",
    "else std::cout << \"x is not equal to 5\";"
   ]
  }
 ],
 "metadata": {
  "kernelspec": {
   "display_name": "C++ 14",
   "language": "cpp",
   "name": "cpp14"
  },
  "language_info": {
   "file_extension": ".cpp",
   "mimetype": "text/markdown",
   "name": "text/markdown"
  },
  "widgets": {
   "application/vnd.jupyter.widget-state+json": {
    "state": {},
    "version_major": 2,
    "version_minor": 0
   }
  }
 },
 "nbformat": 4,
 "nbformat_minor": 5
}
