{
 "cells": [
  {
   "cell_type": "markdown",
   "id": "5d5b7e01-43b7-4506-b9f9-87f5bfd0dc79",
   "metadata": {},
   "source": [
    "# Interpreting method\n",
    "\n",
    "In C++ kernel for Jupyter, it's easy to run code directly from each cell.\n",
    "\n",
    "Each cell are treated as a independent C++ source code `.cpp` file. That means, C++ kernel for Jupyter is different from IPython kernel, where all cells are treated as a Python file, and interpreting directly from the IPython back-end."
   ]
  },
  {
   "cell_type": "markdown",
   "id": "49a68103-afe7-4cb3-85ec-974f6b668b2c",
   "metadata": {},
   "source": [
    "## Treats as `main()` function\n",
    "\n",
    "In C++ kernel for Jupyter, you notice that no need to declare the `main()` function, except you declare another function that is not the `main()`.\n",
    "\n",
    "This is because of the auto detection and auto adding `main()` function in the pre-processing `.cpp`."
   ]
  },
  {
   "cell_type": "code",
   "execution_count": null,
   "id": "31555cdb-3a08-4215-8657-32b60d7b4ad8",
   "metadata": {
    "tags": []
   },
   "outputs": [],
   "source": [
    "//No need to use main() {} here\n",
    "int i = 5;\n",
    "std::cout << i;"
   ]
  },
  {
   "cell_type": "markdown",
   "id": "6e442466-837d-4cf4-ad8a-b2698dda1524",
   "metadata": {},
   "source": [
    "## Input as normal you do\n",
    "\n",
    "No, not always.\n",
    "\n",
    "Since [verion 1.0.0a4](https://github.com/shiroinekotfs/jupyter-cpp-kernel/releases/tag/1.0.0a4), we at least can do that least thing.\n",
    "\n",
    "To be honest, pre-processing `.cpp` is not the perfect way to do that. It just adds every `cin` and `getline` to the with the HTML input box, so that's why you can get the input.\n",
    "\n",
    "But that method doesn't always work ;-;"
   ]
  },
  {
   "cell_type": "code",
   "execution_count": null,
   "id": "061281aa-7fa0-4009-8763-956e887a3824",
   "metadata": {
    "tags": []
   },
   "outputs": [],
   "source": [
    "//User input\n",
    "int i;\n",
    "cin >> i;\n",
    "std::cout << i;"
   ]
  },
  {
   "cell_type": "markdown",
   "id": "f2feb182-2978-49df-938e-30702903e1ff",
   "metadata": {},
   "source": [
    "## Extended headers\n",
    "\n",
    "Using pre-processing, the source code already have the `<iostream>`, and all others necessary headers without actual `#include` it.\n",
    "\n",
    "Included headers are:\n",
    "\n",
    "* Global header: `iostream`, `array`, `cmath`, `exception`, `fstream`, `memory`, `vector`, `sstream`, `stdexcept`, `string`, `typeinfo`\n",
    "* Extended headers: `timer.hpp`, `mathdefs.hpp`, `rstdio.h`, `dlfcn.h`, `uinput.hpp`, `jdisplay.hpp`"
   ]
  }
 ],
 "metadata": {
  "kernelspec": {
   "display_name": "C++ 14",
   "language": "cpp",
   "name": "cpp14"
  },
  "language_info": {
   "file_extension": ".cpp",
   "mimetype": "text/markdown",
   "name": "text/markdown"
  },
  "widgets": {
   "application/vnd.jupyter.widget-state+json": {
    "state": {},
    "version_major": 2,
    "version_minor": 0
   }
  }
 },
 "nbformat": 4,
 "nbformat_minor": 5
}
