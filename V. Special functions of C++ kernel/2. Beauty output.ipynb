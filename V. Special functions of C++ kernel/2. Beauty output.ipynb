{
 "cells": [
  {
   "cell_type": "markdown",
   "id": "8b091ce9-93db-4b0c-a99b-478900f25246",
   "metadata": {},
   "source": [
    "# Beauty Output\n",
    "\n",
    "Since [version 1.0.0a4](https://github.com/shiroinekotfs/jupyter-cpp-kernel/releases/tag/1.0.0a4) C++ kernel uses `markdown` as standard output. That means, you can use any type of MME types that are supporting by `markdown`."
   ]
  },
  {
   "cell_type": "markdown",
   "id": "1c08d1cb-5f89-4fa9-a6dc-4bea57852d64",
   "metadata": {},
   "source": [
    "## `markdown` output\n",
    "\n",
    "Normally, C++ kernel treats all outputs, then formats them to the `markdown` format.\n",
    "\n",
    "> Note: using only one `\\n` or `std::endl` is just not enough, because markdown executes 2 line that are not seperated between an empty line is one line.\n",
    "\n",
    "You can see the sample below, to see how it can to this:"
   ]
  },
  {
   "cell_type": "code",
   "execution_count": null,
   "id": "c782a8a2-a6d6-4e21-8548-feda0a64346f",
   "metadata": {
    "tags": []
   },
   "outputs": [],
   "source": [
    "std::cout << \"This is markdown type, where it is **bold**, *italic*\" << std::endl;\n",
    "std::cout << \"# This is biggest header\" << \"\\n\" << \"## This is the smaller one\";"
   ]
  },
  {
   "cell_type": "markdown",
   "id": "ebf2d7ac-0867-43cd-b912-4cbc911e92f5",
   "metadata": {
    "tags": []
   },
   "source": [
    "## Special MME types output\n",
    "\n",
    "`markdown` output brings unlimited powers in interpreting with C++. However, it brings some troubles that others MME types (e.g. videos, audios) require much more effort to try every output.\n",
    "\n",
    "To solve that, we use **extendable** C++ headers that helps us to get better way to printing out the C++ outputs."
   ]
  },
  {
   "cell_type": "markdown",
   "id": "d2477ff8-6fe3-4541-b0bb-532df4a433c1",
   "metadata": {},
   "source": [
    "### `IFrame`\n",
    "\n",
    "To use `IFrame`, you can use this syntax:\n",
    "\n",
    "```cpp\n",
    "jdisplay::IFrame(<IFrame URL Link, or local link>, <width>, <height>);\n",
    "```\n",
    "\n",
    "Where:\n",
    "\n",
    "* `<IFrame URL Link, or local link>` (string): URL Link that supports IFrame displaying. This can be the local link.\n",
    "* `<width>` (string): Width of IFrame (can be in pixel, percent, or pre-defined HTML header). If you leave it empty, the weight is auto. \n",
    "* `<height>` (string): Height of IFrame (can be in pixel, percent, or pre-defined HTML header). If you leave it empty, the height is auto. \n",
    "\n",
    "You can try this sample (big thanks to [Mitsukiyo](https://twitter.com/mitsukiyo_5)):"
   ]
  },
  {
   "cell_type": "code",
   "execution_count": null,
   "id": "6c992c14-11aa-4fe4-8336-b958259ad9d7",
   "metadata": {
    "tags": []
   },
   "outputs": [],
   "source": [
    "jdisplay::IFrame(\"https://bandcamp.com/EmbeddedPlayer/album=4254430149/size=large/bgcol=ffffff/linkcol=0687f5/tracklist=false/artwork=small/transparent=true/\", \"640\", \"auto\");"
   ]
  },
  {
   "cell_type": "markdown",
   "id": "fbbfaaf2-4ca9-4343-b09e-6777577e3d9d",
   "metadata": {},
   "source": [
    "### `Audio`\n",
    "\n",
    "To use `Audio`, you can use this syntax:\n",
    "\n",
    "```cpp\n",
    "jdisplay::Audio(<Audio URL Link, or local link>);\n",
    "```\n",
    "\n",
    "Where:\n",
    "\n",
    "* `<Audio URL Link, or local link>` (string): URL Link that supports Audio displaying. This can be the local link.\n",
    "\n",
    "You can try the sample below:"
   ]
  },
  {
   "cell_type": "code",
   "execution_count": null,
   "id": "a842f437-2c30-457c-a9f7-aa2a6968a8d5",
   "metadata": {
    "tags": []
   },
   "outputs": [],
   "source": [
    "std::cout << \"This is local music player\\n\";\n",
    "jdisplay::Audio(\"./mme_samples/music.mp3\");\n",
    "std::cout << \"\\nThis is URL-based music player\\n\";\n",
    "jdisplay::Audio(\"https://cdn.pixabay.com/download/audio/2023/09/25/audio_b475db93de.mp3\");"
   ]
  },
  {
   "cell_type": "markdown",
   "id": "6bde2b17-7d3e-4b13-b72e-c747851a4e1d",
   "metadata": {},
   "source": [
    "### `Code string`\n",
    "\n",
    "To format a bunch of code, try this syntax:\n",
    "\n",
    "```cpp\n",
    "jdisplay::CodeString(<code>);\n",
    "```\n",
    "\n",
    "Where:\n",
    "\n",
    "* `<code>` (string): Your code, in any format\n",
    "\n",
    "You can try this sample below:"
   ]
  },
  {
   "cell_type": "code",
   "execution_count": null,
   "id": "eaed6fee-4629-44c1-b978-f2645e6ce648",
   "metadata": {
    "tags": []
   },
   "outputs": [],
   "source": [
    "jdisplay::CodeString(\"std::cout << a;\");"
   ]
  },
  {
   "cell_type": "markdown",
   "id": "d3d620ba-92ed-4fe3-af2d-d27c47e501cd",
   "metadata": {
    "tags": []
   },
   "source": [
    "### `Image`\n",
    "\n",
    "To use `Image`, you can use this syntax:\n",
    "\n",
    "```cpp\n",
    "jdisplay::Image(<Image URL Link, or local link>, <width>, <height>);\n",
    "```\n",
    "\n",
    "Where:\n",
    "\n",
    "* `<Image URL Link, or local link>` (string): URL Link that supports Image displaying. This can be the local link.\n",
    "* `<width>` (string): Width of Image (can be in pixel, percent, or pre-defined HTML header). If you leave it empty, the weight is auto. \n",
    "* `<height>` (string): Height of Image (can be in pixel, percent, or pre-defined HTML header). If you leave it empty, the height is auto. \n",
    "\n",
    "You can try this sample:"
   ]
  },
  {
   "cell_type": "code",
   "execution_count": null,
   "id": "bcccc1bb-cfe7-4fff-a513-02bb19a627b3",
   "metadata": {
    "tags": []
   },
   "outputs": [],
   "source": [
    "std::cout << \"This is local image\\n\";\n",
    "jdisplay::Image(\"./mme_samples/image.jpg\");\n",
    "std::cout << \"\\nThis is URL-based image\\n\";\n",
    "jdisplay::Image(\"https://mms.businesswire.com/media/20220920005289/en/1576327/23/heavyrf_mockup_2.jpg\", \"auto\", \"100%\");"
   ]
  },
  {
   "cell_type": "markdown",
   "id": "79753340-8f2e-4916-b4fd-259366e3e888",
   "metadata": {
    "tags": []
   },
   "source": [
    "### `PDF`\n",
    "\n",
    "To use `PDF`, you can use this syntax:\n",
    "\n",
    "```cpp\n",
    "jdisplay::PDF(<PDF URL Link, or local link>, <width>, <height>);\n",
    "```\n",
    "\n",
    "Where:\n",
    "\n",
    "* `<PDF URL Link, or local link>` (string): PDF Link that supports PDF displaying. This can be the local link.\n",
    "* `<width>` (string): Width of PDF (can be in pixel, percent, or pre-defined HTML header). If you leave it empty, the weight is auto. \n",
    "* `<height>` (string): Height of PDF (can be in pixel, percent, or pre-defined HTML header). If you leave it empty, the height is auto. \n",
    "\n",
    "You can try this sample:"
   ]
  },
  {
   "cell_type": "code",
   "execution_count": null,
   "id": "04e6b89e-ef4f-47da-a61f-cd4ac044fd50",
   "metadata": {
    "tags": []
   },
   "outputs": [],
   "source": [
    "std::cout << \"This is local PDF file\\n\";\n",
    "jdisplay::PDF(\"mme_samples/pdffile.pdf/\", \"1280\", \"720\");\n",
    "std::cout << \"\\nThis is URL-based PDF file\\n\";\n",
    "jdisplay::PDF(\"https://www.airbus.com/sites/g/files/jlcbta136/files/2021-07/Airbus-AnnualReport-Overview-2020.pdf\", \"1280\", \"720\");"
   ]
  },
  {
   "cell_type": "markdown",
   "id": "18fe9261-023d-4405-a54f-2cfc85eabed7",
   "metadata": {
    "tags": []
   },
   "source": [
    "### `Video`\n",
    "\n",
    "To use `Video`, you can use this syntax:\n",
    "\n",
    "```cpp\n",
    "jdisplay::Video(<Video URL Link, or local link>, <width>, <height>);\n",
    "```\n",
    "\n",
    "Where:\n",
    "\n",
    "* `<Video URL Link, or local link>` (string): Video Link that supports Video displaying. This can be the local link.\n",
    "* `<width>` (string): Width of Video (can be in pixel, percent, or pre-defined HTML header). If you leave it empty, the weight is auto. \n",
    "* `<height>` (string): Height of Video (can be in pixel, percent, or pre-defined HTML header). If you leave it empty, the height is auto. \n",
    "\n",
    "You can try this sample:"
   ]
  },
  {
   "cell_type": "code",
   "execution_count": null,
   "id": "2c2ddcdb-b353-4d64-b4f2-72f14f5a85e6",
   "metadata": {
    "tags": []
   },
   "outputs": [],
   "source": [
    "jdisplay::Video(\"https://media.istockphoto.com/id/1448515457/vi/video/nh%C3%ACn-t%E1%BB%AB-tr%C3%AAn-kh%C3%B4ng-c%E1%BB%A7a-%C4%91%C6%B0%E1%BB%9Dng-cao-t%E1%BB%91c-c%E1%BA%A7u-%C4%91%C6%B0%E1%BB%9Dng-b%E1%BB%99-qua-s%C3%B4ng-trong-khu-v%E1%BB%B1c-th%C3%A0nh-ph%E1%BB%91-xe-t%E1%BA%A3i.mp4?s=mp4-640x640-is&k=20&c=7wPUEVrnN-H1a_BFCDTHMg61ZESsKfVIFQdBICisyOM=\", \"1280\", \"720\");"
   ]
  },
  {
   "cell_type": "markdown",
   "id": "3edbf898-9a69-48f7-8710-2747fe80bab8",
   "metadata": {},
   "source": [
    "### `YouTube Video link`\n",
    "\n",
    "To use `YouTube Video link`, you can use this syntax:\n",
    "\n",
    "```cpp\n",
    "jdisplay::YouTubePlayer(<YouTube Video URL Link, or local link>, <width>, <height>);\n",
    "```\n",
    "\n",
    "Where:\n",
    "\n",
    "* `<YouTube Video URL Link, or local link>` (string): YouTube Video Link that supports Video displaying. This can be the local link.\n",
    "* `<width>` (string): Width of Video (can be in pixel, percent, or pre-defined HTML header). If you leave it empty, the weight is auto. \n",
    "* `<height>` (string): Height of Video (can be in pixel, percent, or pre-defined HTML header). If you leave it empty, the height is auto. \n",
    "\n",
    "You can try this sample:"
   ]
  },
  {
   "cell_type": "code",
   "execution_count": null,
   "id": "68b70691-f10b-4bbc-b34c-77d984861c7d",
   "metadata": {
    "tags": []
   },
   "outputs": [],
   "source": [
    "jdisplay::YouTubePlayer(\"https://youtu.be/wKKM0MTlv9U?si=TEMAdjdipmp16S_O\", \"1280\", \"720\"); //I love this video lol"
   ]
  },
  {
   "cell_type": "code",
   "execution_count": null,
   "id": "f4d77cce-aafb-4516-ae45-7b473b2dbdbb",
   "metadata": {},
   "outputs": [],
   "source": []
  }
 ],
 "metadata": {
  "kernelspec": {
   "display_name": "C++ 14",
   "language": "cpp",
   "name": "cpp14"
  },
  "language_info": {
   "file_extension": ".cpp",
   "mimetype": "text/markdown",
   "name": "text/markdown"
  },
  "widgets": {
   "application/vnd.jupyter.widget-state+json": {
    "state": {},
    "version_major": 2,
    "version_minor": 0
   }
  }
 },
 "nbformat": 4,
 "nbformat_minor": 5
}
