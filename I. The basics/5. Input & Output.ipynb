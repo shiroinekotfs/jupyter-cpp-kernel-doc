{
 "cells": [
  {
   "cell_type": "markdown",
   "id": "3eafd17e-ad08-4326-8193-e9caa355050b",
   "metadata": {},
   "source": [
    "## Input & Output\n",
    "\n",
    "Since version 1.0.0a4, C++ kernel for Jupyter supports the user input, for interacting with real-life C++ application\n",
    "\n",
    "According to `cplusplus.com`:\n",
    "\n",
    "> C++ uses a convenient abstraction called `streams` to perform input and output operations in sequential media such as the screen, the keyboard or a file. A stream is an entity where a program can either insert or extract characters to/from. There is no need to know details about the media associated to the stream or any of its internal specifications. All we need to know is that streams are a source/destination of characters, and that these characters are provided/accepted sequentially (i.e., one after another).\n",
    "\n",
    "Some standard Input/Output in C++ you can use:\n",
    "\n",
    "<p>\n",
    "<table class=\"boxed\">\n",
    "<tbody><tr><th>stream</th><th>description</th></tr>\n",
    "<tr><td><code>cin</code></td><td>standard input stream</td></tr>\n",
    "<tr><td><code>cout</code></td><td>standard output stream</td></tr>\n",
    "<tr><td><code>cerr</code></td><td>standard error (output) stream</td></tr>\n",
    "<tr><td><code>clog</code></td><td>standard logging (output) stream</td></tr>\n",
    "</tbody></table>\n",
    "</p>\n"
   ]
  },
  {
   "cell_type": "markdown",
   "id": "61b3c8c5-90eb-4e2e-9e25-bde467092ac0",
   "metadata": {},
   "source": [
    "## Basic (standard) output\n",
    "\n",
    "In C++, `cout` is used to perform printing the result from (a) variable(s). The output can be any type of variable that is defined in C++\n",
    "\n",
    "However, to prevent any future libirary that are also provided the same output, but with different method, we recommend you to use `std::`\n",
    "\n",
    "For formatted output operations, `cout` is used together with the insertion operator, which is written as << (i.e., two \"less than\" signs).\n",
    "\n",
    "> Tips: you can use `std::endl` or `\\n` to end the current line and start a new printing line\n"
   ]
  },
  {
   "cell_type": "code",
   "execution_count": null,
   "id": "80728830-8e89-4c78-b280-ecc831384497",
   "metadata": {},
   "outputs": [],
   "source": [
    "std::cout << \"Hello World\" << std::endl << \"This is the new line, after the std::endl\" << \"\\n...and this's the splashback with n\"; "
   ]
  },
  {
   "cell_type": "markdown",
   "id": "ec68bc9e-8e02-46b3-8978-b5fd57cc2ed7",
   "metadata": {},
   "source": [
    "## Basic (standard) input\n",
    "\n",
    "### User input with `cin`\n",
    "\n",
    "In C++, `cin` is used to get user input, and assign it into a declared variable. The vaild input variable can be any type of defined variable in C++\n",
    "\n",
    "However, to prevent any future libirary that are also provided the same input, but with different method, we recommend you to use `std::`\n",
    "\n",
    "For formatted input operations, `cin` is used together with the insertion operator, which is written as >> (i.e., two \"greater than\" signs).\n",
    "\n",
    "### User input with `getline(cin, )`\n",
    "\n",
    "According to `cplusplus.com`:\n",
    "\n",
    "> `cin` extraction always considers spaces (whitespaces, tabs, new-line...) as terminating the value being extracted, and thus extracting a string means to always extract a single word, not a phrase or an entire sentence. \r\n",
    "To get an entire line from cin, there exists a function, called getline, that takes the stream (cin) as first argument, and the string variable as second."
   ]
  },
  {
   "cell_type": "code",
   "execution_count": null,
   "id": "455410c0-7248-4166-be46-9a6173bb1825",
   "metadata": {},
   "outputs": [],
   "source": [
    "//get user input with getline\n",
    "std::string j;\n",
    "std::getline(std::cin, j);\n",
    "\n",
    "//get user input with cin\n",
    "int i;\n",
    "std::cin >> i;\n",
    "\n",
    "//print out all input\n",
    "std::cout << \"Your i variable is: \" << i << std::endl << \"Your j variable is: \" << j;"
   ]
  }
 ],
 "metadata": {
  "kernelspec": {
   "display_name": "C++ 14",
   "language": "cpp",
   "name": "cpp14"
  },
  "language_info": {
   "file_extension": ".cpp",
   "mimetype": "text/markdown",
   "name": "text/markdown"
  },
  "widgets": {
   "application/vnd.jupyter.widget-state+json": {
    "state": {},
    "version_major": 2,
    "version_minor": 0
   }
  }
 },
 "nbformat": 4,
 "nbformat_minor": 5
}
