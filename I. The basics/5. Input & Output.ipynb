{
 "cells": [
  {
   "cell_type": "markdown",
   "id": "3eafd17e-ad08-4326-8193-e9caa355050b",
   "metadata": {},
   "source": [
    "## Input & Output\n",
    "\n",
    "Since C++ kernel for Jupyter does NOT support it, so nothing is here. You can see [here](https://github.com/brendan-rius/jupyter-c-kernel/issues/3#issuecomment-397792936) for the alternative get user input/output\n",
    "\n",
    "You can create a [support ticket for this problem](https://github.com/takinekotfs/jupyter-cpp-kernel/issues)\n",
    "\n",
    "We will update this notebook once this feature is available."
   ]
  },
  {
   "cell_type": "code",
   "execution_count": null,
   "id": "e7d5351f-da28-4ce2-8de1-322b77820230",
   "metadata": {},
   "outputs": [],
   "source": []
  }
 ],
 "metadata": {
  "kernelspec": {
   "display_name": "C++ 14",
   "language": "cpp",
   "name": "cpp14"
  },
  "language_info": {
   "file_extension": ".cpp",
   "mimetype": "text/x-csrc",
   "name": "text/x-csrc"
  },
  "widgets": {
   "application/vnd.jupyter.widget-state+json": {
    "state": {},
    "version_major": 2,
    "version_minor": 0
   }
  }
 },
 "nbformat": 4,
 "nbformat_minor": 5
}
