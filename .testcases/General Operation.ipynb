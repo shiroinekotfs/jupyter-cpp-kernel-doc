{
 "cells": [
  {
   "cell_type": "code",
   "execution_count": 2,
   "id": "ebe88c5f-07e5-461e-ad54-9d791f635844",
   "metadata": {
    "execution": {
     "iopub.execute_input": "2025-04-09T15:59:35.358544Z",
     "iopub.status.busy": "2025-04-09T15:59:35.358130Z",
     "iopub.status.idle": "2025-04-09T15:59:39.581336Z",
     "shell.execute_reply": "2025-04-09T15:59:39.580526Z",
     "shell.execute_reply.started": "2025-04-09T15:59:35.358530Z"
    }
   },
   "outputs": [
    {
     "name": "stdin",
     "output_type": "stream",
     "text": [
      " 12010210210\n"
     ]
    },
    {
     "data": {
      "text/markdown": [
       "Year Bonus: 360302106"
      ]
     },
     "metadata": {},
     "output_type": "display_data"
    }
   ],
   "source": [
    "double salary;\n",
    "\n",
    "scanf(\"%lf\", &salary);\n",
    "\n",
    "if (0 <= salary && salary <= 100000) {\n",
    "    printf(\"Year Bonus: 1000\");\n",
    "} else if (100000 < salary && salary <= 120000) {\n",
    "    printf(\"Year Bonus: %.0lf\", ((salary - 100000) * (1.0 / 100)));\n",
    "} else if (120000 < salary && salary <= 140000) {\n",
    "    printf(\"Year Bonus: %.0lf\", ((salary - 120000) * (2.0 / 100)));\n",
    "} else if (salary > 140000) {\n",
    "    printf(\"Year Bonus: %.0lf\", ((salary - 140000) * (3.0 / 100)));\n",
    "} else {\n",
    "    printf(\" ?\");\n",
    "}"
   ]
  },
  {
   "cell_type": "code",
   "execution_count": 3,
   "id": "0fbb7e23-574a-41fb-ad49-17703fd41e66",
   "metadata": {
    "execution": {
     "iopub.execute_input": "2025-04-09T15:59:44.131858Z",
     "iopub.status.busy": "2025-04-09T15:59:44.131365Z",
     "iopub.status.idle": "2025-04-09T15:59:47.777912Z",
     "shell.execute_reply": "2025-04-09T15:59:47.776882Z",
     "shell.execute_reply.started": "2025-04-09T15:59:44.131840Z"
    }
   },
   "outputs": [
    {
     "name": "stdin",
     "output_type": "stream",
     "text": [
      " SOSO\n"
     ]
    },
    {
     "data": {
      "text/markdown": [
       "Food Name: SOSO\n",
       "\n",
       "It tastes like your mom!\n",
       "\n",
       "It is kinda easy to proceed\n",
       "\n"
      ]
     },
     "metadata": {},
     "output_type": "display_data"
    }
   ],
   "source": [
    "struct Food {\n",
    "    char *name;\n",
    "    float tasteRank;\n",
    "    bool isEasyToProceed;\n",
    "} Snack;\n",
    "\n",
    "Snack.name = (char*)malloc(1024 * sizeof(char));\n",
    "scanf(\"%[^\\n]\", Snack.name);\n",
    "\n",
    "Snack.name = (char*)realloc(Snack.name, strlen(Snack.name) * sizeof(char));\n",
    "\n",
    "Snack.tasteRank = 0.12;\n",
    "Snack.isEasyToProceed = true;\n",
    "\n",
    "printf(\"Food Name: %s\\n\", Snack.name);\n",
    "\n",
    "if (Snack.tasteRank < 1) {\n",
    "    printf(\"It tastes like your mom!\\n\");\n",
    "} else {\n",
    "    printf(\"It is good in common!\\n\");\n",
    "}\n",
    "\n",
    "if (Snack.isEasyToProceed) {\n",
    "    printf(\"It is kinda easy to proceed\\n\");\n",
    "} else {\n",
    "    printf(\"It is hard as f*ck\\n\");\n",
    "}"
   ]
  },
  {
   "cell_type": "code",
   "execution_count": 4,
   "id": "a7dd22aa-5c3d-46c0-913d-eb6bdddd5264",
   "metadata": {
    "execution": {
     "iopub.execute_input": "2025-04-09T15:59:50.558059Z",
     "iopub.status.busy": "2025-04-09T15:59:50.557408Z",
     "iopub.status.idle": "2025-04-09T15:59:51.428328Z",
     "shell.execute_reply": "2025-04-09T15:59:51.426319Z",
     "shell.execute_reply.started": "2025-04-09T15:59:50.558034Z"
    }
   },
   "outputs": [
    {
     "data": {
      "text/markdown": [
       "7.500000\n",
       "\n"
      ]
     },
     "metadata": {},
     "output_type": "display_data"
    }
   ],
   "source": [
    "int main() {\n",
    "    unsigned short us = 5;\n",
    "    float f = 1.5;\n",
    "\n",
    "    float result = us * f;\n",
    "\n",
    "    printf(\"%f\\n\", result);\n",
    "}"
   ]
  },
  {
   "cell_type": "code",
   "execution_count": 5,
   "id": "33bf7696-950e-4053-a6fb-e4ec9d78406c",
   "metadata": {
    "execution": {
     "iopub.execute_input": "2025-04-09T15:59:52.068870Z",
     "iopub.status.busy": "2025-04-09T15:59:52.068585Z",
     "iopub.status.idle": "2025-04-09T15:59:53.010352Z",
     "shell.execute_reply": "2025-04-09T15:59:53.009446Z",
     "shell.execute_reply.started": "2025-04-09T15:59:52.068854Z"
    }
   },
   "outputs": [
    {
     "data": {
      "text/markdown": [
       "Hello World"
      ]
     },
     "metadata": {},
     "output_type": "display_data"
    }
   ],
   "source": [
    "int main(int *arg, ...) {\n",
    "    printf(\"Hello World\");\n",
    "    return 0;\n",
    "}"
   ]
  },
  {
   "cell_type": "code",
   "execution_count": 6,
   "id": "f2dad00d-5c3c-44af-aca5-67e779a85033",
   "metadata": {
    "execution": {
     "iopub.execute_input": "2025-04-09T15:59:53.628905Z",
     "iopub.status.busy": "2025-04-09T15:59:53.628600Z",
     "iopub.status.idle": "2025-04-09T15:59:54.505393Z",
     "shell.execute_reply": "2025-04-09T15:59:54.504539Z",
     "shell.execute_reply.started": "2025-04-09T15:59:53.628890Z"
    }
   },
   "outputs": [
    {
     "data": {
      "text/markdown": [
       "Hello World"
      ]
     },
     "metadata": {},
     "output_type": "display_data"
    }
   ],
   "source": [
    "int main(void) {\n",
    "    printf(\"Hello World\");\n",
    "    return 0;\n",
    "}"
   ]
  },
  {
   "cell_type": "code",
   "execution_count": 7,
   "id": "6620d893-763a-49c1-9dae-d849cc7f0093",
   "metadata": {
    "execution": {
     "iopub.execute_input": "2025-04-09T15:59:55.951008Z",
     "iopub.status.busy": "2025-04-09T15:59:55.950192Z",
     "iopub.status.idle": "2025-04-09T15:59:56.963275Z",
     "shell.execute_reply": "2025-04-09T15:59:56.962345Z",
     "shell.execute_reply.started": "2025-04-09T15:59:55.950986Z"
    }
   },
   "outputs": [
    {
     "data": {
      "text/markdown": [
       "Hello World"
      ]
     },
     "metadata": {},
     "output_type": "display_data"
    }
   ],
   "source": [
    "int main() {\n",
    "    printf(\"Hello World\");\n",
    "    return 0;\n",
    "}"
   ]
  },
  {
   "cell_type": "code",
   "execution_count": 8,
   "id": "176e048e-d6a2-4969-9d1f-9e8113da73d5",
   "metadata": {
    "execution": {
     "iopub.execute_input": "2025-04-09T15:59:57.579532Z",
     "iopub.status.busy": "2025-04-09T15:59:57.579297Z",
     "iopub.status.idle": "2025-04-09T15:59:58.484602Z",
     "shell.execute_reply": "2025-04-09T15:59:58.483336Z",
     "shell.execute_reply.started": "2025-04-09T15:59:57.579519Z"
    }
   },
   "outputs": [
    {
     "data": {
      "text/markdown": [
       "Hello World"
      ]
     },
     "metadata": {},
     "output_type": "display_data"
    }
   ],
   "source": [
    "printf(\"Hello World\");"
   ]
  },
  {
   "cell_type": "code",
   "execution_count": 9,
   "id": "b3d427d8-0e5b-49a1-84fb-2b7f35b06fc8",
   "metadata": {
    "execution": {
     "iopub.execute_input": "2025-04-09T16:00:05.075068Z",
     "iopub.status.busy": "2025-04-09T16:00:05.074461Z",
     "iopub.status.idle": "2025-04-09T16:00:06.082256Z",
     "shell.execute_reply": "2025-04-09T16:00:06.081463Z",
     "shell.execute_reply.started": "2025-04-09T16:00:05.075042Z"
    }
   },
   "outputs": [
    {
     "data": {
      "text/markdown": [
       "Hello World"
      ]
     },
     "metadata": {},
     "output_type": "display_data"
    }
   ],
   "source": [
    "using namespace std;\n",
    "\n",
    "cout << \"Hello World\";"
   ]
  },
  {
   "cell_type": "code",
   "execution_count": 11,
   "id": "a2d58fd3-162e-4ba6-9d36-3cdccb3a38a0",
   "metadata": {
    "execution": {
     "iopub.execute_input": "2025-04-09T16:00:24.363527Z",
     "iopub.status.busy": "2025-04-09T16:00:24.363238Z",
     "iopub.status.idle": "2025-04-09T16:00:37.712394Z",
     "shell.execute_reply": "2025-04-09T16:00:37.710682Z",
     "shell.execute_reply.started": "2025-04-09T16:00:24.363510Z"
    }
   },
   "outputs": [
    {
     "data": {
      "text/markdown": [
       "How many element of numeric array? "
      ]
     },
     "metadata": {},
     "output_type": "display_data"
    },
    {
     "name": "stdin",
     "output_type": "stream",
     "text": [
      " 4\n"
     ]
    },
    {
     "data": {
      "text/markdown": [
       "Please enter value for 4 elements:\n",
       "\n",
       "Value of the 1st element is: "
      ]
     },
     "metadata": {},
     "output_type": "display_data"
    },
    {
     "name": "stdin",
     "output_type": "stream",
     "text": [
      " 124 \n"
     ]
    },
    {
     "data": {
      "text/markdown": [
       "Value of the 2nd element is: "
      ]
     },
     "metadata": {},
     "output_type": "display_data"
    },
    {
     "name": "stdin",
     "output_type": "stream",
     "text": [
      " 233\n"
     ]
    },
    {
     "data": {
      "text/markdown": [
       "Value of the 3rd element is: "
      ]
     },
     "metadata": {},
     "output_type": "display_data"
    },
    {
     "name": "stdin",
     "output_type": "stream",
     "text": [
      " 1213\n"
     ]
    },
    {
     "data": {
      "text/markdown": [
       "Value of the 4th element is: "
      ]
     },
     "metadata": {},
     "output_type": "display_data"
    },
    {
     "name": "stdin",
     "output_type": "stream",
     "text": [
      " 931\n"
     ]
    },
    {
     "data": {
      "text/markdown": [
       "The entered array is:\n",
       "\n",
       "124, 233, 1213, 931\n",
       "\n",
       "The sorted array is:\n",
       "\n",
       "124, 233, 931, 1213"
      ]
     },
     "metadata": {},
     "output_type": "display_data"
    }
   ],
   "source": [
    "int cmp(const void *ptr1, const void *ptr2) {\n",
    "\tint *x = (int*)ptr1;\n",
    "\tint *y = (int*)ptr2;\n",
    "\tif (*x < *y) return -1;\n",
    "\telse return 1;\n",
    "}\n",
    "\n",
    "char *sur_num_get(int a) {\n",
    "\tif (10 < a && a < 20) {\n",
    "\t\treturn \"th\";\n",
    "\t} else {\n",
    "\t\tif (a % 10 == 1) return \"st\";\n",
    "\t\telse if (a % 10 == 2) return \"nd\";\n",
    "\t\telse if (a % 10 == 3) return \"rd\";\n",
    "\t\telse return \"th\";\n",
    "\t}\n",
    "}\n",
    "\n",
    "int main() {\n",
    "    int n, *arr;\n",
    "    char *suf_num;\n",
    "    \n",
    "    printf(\"How many element of numeric array? \");\n",
    "    scanf(\"%d\", &n);\n",
    "    \n",
    "    if (n <= 0) {\n",
    "        printf(\"The number of element of numeric array must be greater than 0!\");\n",
    "        return 0;\n",
    "    }\n",
    "    \n",
    "    arr = (int*)malloc(n * sizeof(int));\n",
    "    suf_num = (char*)malloc(2 * sizeof(char));\n",
    "    \n",
    "    printf(\"Please enter value for %d elements:\\n\", n);\n",
    "    for (int i = 0; i < n; i++) {\n",
    "        suf_num = sur_num_get(i + 1);\n",
    "        printf(\"Value of the %d%s element is: \", i + 1, suf_num);\n",
    "        scanf(\"%d\", &arr[i]);\n",
    "    }\n",
    "    \n",
    "    printf(\"The entered array is:\\n\");\n",
    "    for (int j = 0; j < n; j++) {\n",
    "        if (j != n - 1) printf(\"%d, \", arr[j]);\n",
    "        else printf(\"%d\\n\", arr[j]);\n",
    "    }\n",
    "    \n",
    "    qsort(arr, n, sizeof(int), cmp);\n",
    "    \n",
    "    printf(\"The sorted array is:\\n\");\n",
    "    for (int k = 0; k < n; k++) {\n",
    "        if (k != n - 1) printf(\"%d, \", arr[k]);\n",
    "        else printf(\"%d\", arr[k]);\n",
    "    }\n",
    "}"
   ]
  },
  {
   "cell_type": "code",
   "execution_count": null,
   "id": "3fa5ce61-f9b9-418a-9d16-399b2b99a92d",
   "metadata": {},
   "outputs": [],
   "source": [
    "int Sum(int a, int b) {\n",
    "    return a + b;\n",
    "}\n",
    "\n",
    "int a = 3, b = 4;\n",
    "printf(\"%d\", Sum(a, b));"
   ]
  },
  {
   "cell_type": "code",
   "execution_count": null,
   "id": "69204c56-4433-4533-82d3-7831752bec5c",
   "metadata": {},
   "outputs": [],
   "source": [
    "void HelloWorld() {\n",
    "\tprintf(\"Hello World\");\n",
    "}\n",
    "\n",
    "HelloWorld();"
   ]
  },
  {
   "cell_type": "code",
   "execution_count": null,
   "id": "e3f9d305-ca65-49a8-8c34-ae6d069f36c9",
   "metadata": {},
   "outputs": [],
   "source": [
    "void Sample(int a) {\n",
    "\tprintf(\"%d\", a);\n",
    "}\n",
    "\n",
    "void AnotherSample(int b);\n",
    "\n",
    "int b = 6;\n",
    "AnotherSample(b);\n",
    "int a = 5;\n",
    "Sample(a);\n",
    "\n",
    "void AnotherSample(int b) {\n",
    "\tprintf(\"%d\", b);\n",
    "}"
   ]
  },
  {
   "cell_type": "code",
   "execution_count": null,
   "id": "6e0cbe24-4f10-4e0c-a6e4-e9e20eac945e",
   "metadata": {},
   "outputs": [],
   "source": [
    "int comp(const void *a, const void *b) {\n",
    "    return *(int*)a - *(int*)b;\n",
    "}\n",
    "\n",
    "int n, *arr;\n",
    "printf(\"Enter the number of element in an array: \");\n",
    "scanf(\"%d\", &n);\n",
    "\n",
    "arr = (int*)malloc(n * sizeof(int));\n",
    "\n",
    "printf(\"Enter each element of your array: \");\n",
    "for (int i = 0; i < n; i++) {\n",
    "    scanf(\"%d\", &arr[i]);\n",
    "}\n",
    "\n",
    "printf(\"The array you have entered: \");\n",
    "for (int j = 0; j < n; j++) {\n",
    "    printf(\"%d \", arr[j]);\n",
    "}\n",
    "\n",
    "qsort(arr, n, sizeof(int), comp);\n",
    "\n",
    "printf(\"\\nThe sorted array: \");\n",
    "for (int k = 0; k < n; k++) {\n",
    "    printf(\"%d \", arr[k]);\n",
    "}"
   ]
  },
  {
   "cell_type": "code",
   "execution_count": null,
   "id": "0046a3f5-1f5e-4991-9df7-796dd63761ed",
   "metadata": {},
   "outputs": [],
   "source": []
  }
 ],
 "metadata": {
  "kernelspec": {
   "display_name": "C++ 14",
   "language": "c++",
   "name": "cpp14"
  },
  "language_info": {
   "file_extension": ".cpp",
   "mimetype": "text/markdown",
   "name": "C++",
   "version": "1.0.0a9"
  }
 },
 "nbformat": 4,
 "nbformat_minor": 5
}
