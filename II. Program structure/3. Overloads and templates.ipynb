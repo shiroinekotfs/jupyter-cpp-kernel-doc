{
 "cells": [
  {
   "cell_type": "markdown",
   "id": "35895616-2ec4-476e-b820-04ce4b39f994",
   "metadata": {},
   "source": [
    "# Overloads and templates"
   ]
  },
  {
   "cell_type": "markdown",
   "id": "1f7bda08-c04c-476b-83dd-c2875507c0e8",
   "metadata": {},
   "source": [
    "## Overloaded functions\n",
    "\n",
    "In C++, two different functions can have the same name if their parameters are different; either because they have a different number of parameters, or because any of their parameters are of a different type.\n",
    "\n",
    "In the example, there are two functions called `operate()`, but one of them has two parameters of type `int`, while the other has them of type `double`. The compiler knows which one to call in each case by examining the types passed as arguments when the function is called. If it is called with two `int` arguments, it calls to the function that has two `int` parameters, and if it is called with two `double`s, it calls the one with two `double`s.\n"
   ]
  },
  {
   "cell_type": "code",
   "execution_count": null,
   "id": "930ac83c-161e-433a-ad5a-3d11a3f135df",
   "metadata": {},
   "outputs": [],
   "source": [
    "int operate (int a, int b) { \n",
    "    return a * b; \n",
    "}\n",
    "\n",
    "double operate (double a, double b) { \n",
    "    return a / b; \n",
    "}\n",
    "\n",
    "int main() {\n",
    "    int x = 5,y = 2;\n",
    "    double n = 5.0, m = 2.0;\n",
    "    std::cout << operate(x, y) << '\\n'; // Since x and y are integers, this will call `int operate(...)`\n",
    "    std::cout << operate(n, m) << '\\n'; // Since n and m are doubles, this will call `double operate(...)`\n",
    "    return 0;\n",
    "}"
   ]
  },
  {
   "cell_type": "markdown",
   "id": "098c0bdd-c5b6-4851-a4d6-4f3129042e7c",
   "metadata": {},
   "source": [
    "## Function templates\n",
    "\n",
    "Overloaded functions may have the same definition. Its syntax is:\n",
    "\n",
    "```c++\n",
    "template <class Type>\n",
    "Type name (Type a, Type b, ...)\n",
    "{\n",
    "  statements\n",
    "}\n",
    "```\n",
    "\n",
    "Where:\n",
    "\n",
    "* `Type` is the type of variable (e.g. `string`, `int`, or `double`)\n",
    "* `name` is the identifier by which the function can be called.\n",
    "* `Type a`, `Type b`, ... (as many as needed): Each parameter consists of a type followed by an identifier, with each parameter being separated from the next by a comma. Each parameter looks very much like a regular variable declaration (for example: int x) and acts within the function as a regular variable that is local to the function. The purpose of parameters is to allow passing arguments to the function from the location where it is called.\n",
    "\n",
    "The code below demonstrates how to declare a function, using it in the main function. You can try this."
   ]
  },
  {
   "cell_type": "code",
   "execution_count": null,
   "id": "5ca488b2-a96d-492b-a990-8b27e5002e14",
   "metadata": {
    "tags": []
   },
   "outputs": [],
   "source": [
    "#if __cplusplus >= 201103L // Only available with C++ 11 and above\n",
    "template <class T, class U>\n",
    "bool are_equal(T a, U b)\n",
    "{\n",
    "  // Check if the types T and U are the same\n",
    "  if constexpr (std::is_same<T, U>::value)\n",
    "  {\n",
    "    return (a == b);\n",
    "  }\n",
    "  else\n",
    "  {\n",
    "    // Types are different, so they can't be equal\n",
    "    return false;\n",
    "  }\n",
    "}\n",
    "\n",
    "int main() {\n",
    "    if (are_equal(10, 10.0)) {\n",
    "        std::cout << \"x and y are equal, in term of types\\n\";\n",
    "    } else {\n",
    "        std::cout << \"x and y are not equal, in term of types\\n\";\n",
    "    }\n",
    "}\n",
    "#else\n",
    "int main() {\n",
    "    std::cout << \"Only available with C++ 11 and above\";\n",
    "    return 0;\n",
    "}\n",
    "#endif"
   ]
  },
  {
   "cell_type": "markdown",
   "id": "eb78ce6a-a9ad-4332-82cd-34b3cd747713",
   "metadata": {},
   "source": [
    "## Non-type template arguments\n",
    "\n",
    "The template parameters can not only include types introduced by class or typename, but can also include expressions of a particular type\n",
    "\n",
    "```c++\n",
    "template <class T, int N>\n",
    "T fixed_multiply (T val)\n",
    "{\n",
    "  return val * N;\n",
    "}\n",
    "```\n",
    "\n",
    "The second argument of the fixed_multiply function template is of type int. It just looks like a regular function parameter, and can actually be used just like one.\n",
    "\n",
    "But there exists a major difference: the value of template parameters is determined on compile-time to generate a different instantiation of the function fixed_multiply, and thus the value of that argument is never passed during runtime: The two calls to fixed_multiply in main essentially call two versions of the function: one that always multiplies by two, and one that always multiplies by three. For that same reason, the second template argument needs to be a constant expression (it cannot be passed a variable)"
   ]
  },
  {
   "cell_type": "code",
   "execution_count": null,
   "id": "89126c16-67d9-4c6e-b6f3-14f249a17662",
   "metadata": {},
   "outputs": [],
   "source": [
    "template <class T, int N>\n",
    "T fixed_multiply (T val)\n",
    "{\n",
    "  return val * N;\n",
    "}\n",
    "\n",
    "int main() {\n",
    "  std::cout << fixed_multiply<int,2>(10) << '\\n';\n",
    "  std::cout << fixed_multiply<int,3>(5.0) << '\\n';\n",
    "}"
   ]
  }
 ],
 "metadata": {
  "kernelspec": {
   "display_name": "C++ 14",
   "language": "c++",
   "name": "cpp14"
  },
  "language_info": {
   "file_extension": ".cpp",
   "mimetype": "text/markdown",
   "name": "C++",
   "version": "1.0.0a9"
  },
  "widgets": {
   "application/vnd.jupyter.widget-state+json": {
    "state": {},
    "version_major": 2,
    "version_minor": 0
   }
  }
 },
 "nbformat": 4,
 "nbformat_minor": 5
}
