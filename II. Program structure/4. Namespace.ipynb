{
 "cells": [
  {
   "cell_type": "markdown",
   "id": "fab49d59-21bd-488b-a77b-a87e0eaa2823",
   "metadata": {},
   "source": [
    "# Namespace\n",
    "\n",
    "Namespaces allow us to group named entities that otherwise would have global scope into narrower scopes, giving them namespace scope. This allows organizing the elements of programs into different logical scopes referred to by names.\n",
    "\n",
    "The syntax to declare a namespaces is:\n",
    "\n",
    "```cpp\n",
    "namespace identifier\n",
    "{\n",
    "  named_entities\n",
    "}\n",
    "```\n",
    "\n",
    "You can see the sample below to know how to declare and use a namespace"
   ]
  },
  {
   "cell_type": "code",
   "execution_count": null,
   "id": "d8b3c9aa-884f-4c0f-b697-d3c87e89f736",
   "metadata": {
    "tags": []
   },
   "outputs": [],
   "source": [
    "namespace samplenamespace {\n",
    "    int value() { return 5; }\n",
    "}\n",
    "\n",
    "int main() {\n",
    "    std::cout << samplenamespace::value();\n",
    "}"
   ]
  },
  {
   "cell_type": "markdown",
   "id": "c3fdc84b-557b-4cf7-a008-785f53333d30",
   "metadata": {},
   "source": [
    "You can try `using namespace ...` to use that namespace globally. For example:"
   ]
  },
  {
   "cell_type": "code",
   "execution_count": null,
   "id": "19af583b-8abd-4eb0-a5f2-207676e116a7",
   "metadata": {
    "tags": []
   },
   "outputs": [],
   "source": [
    "namespace samplenamespace {\n",
    "    int value() { return 5; }\n",
    "}\n",
    "\n",
    "using namespace samplenamespace;\n",
    "\n",
    "int main() {\n",
    "    std::cout << value();\n",
    "}"
   ]
  },
  {
   "cell_type": "code",
   "execution_count": null,
   "id": "b314a9d6-b95b-428a-9a20-3fafd98aef51",
   "metadata": {},
   "outputs": [],
   "source": []
  }
 ],
 "metadata": {
  "kernelspec": {
   "display_name": "C++ 14",
   "language": "cpp",
   "name": "cpp14"
  },
  "language_info": {
   "file_extension": ".cpp",
   "mimetype": "text/markdown",
   "name": "text/markdown"
  },
  "widgets": {
   "application/vnd.jupyter.widget-state+json": {
    "state": {},
    "version_major": 2,
    "version_minor": 0
   }
  }
 },
 "nbformat": 4,
 "nbformat_minor": 5
}
