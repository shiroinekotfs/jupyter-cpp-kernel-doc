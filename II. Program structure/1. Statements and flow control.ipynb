{
 "cells": [
  {
   "cell_type": "markdown",
   "id": "70aa58fe-d714-4b02-8394-ef6df3acef6b",
   "metadata": {},
   "source": [
    "# Statements and flow control\n",
    "\n",
    "According to cplusplus.com, Statements and flow controls are:\n",
    "\n",
    "> A simple C++ statement is each of the individual instructions of a program, like the variable declarations and expressions seen in previous sections. They always end with a semicolon (;), and are executed in the same order in which they appear in a program.\n",
    ">\n",
    "> But programs are not limited to a linear sequence of statements. During its process, a program may repeat segments of code, or take decisions and bifurcate. For that purpose, C++ provides flow control statements that serve to specify what has to be done by our program, when, and under which circumstances.A simple C++ statement is each of the individual instructions of a program, like the variable declarations and expressions seen in previous sections. They always end with a semicolon (;), and are executed in the same order in which they appear in a program.\n",
    ">\n",
    "> But programs are not limited to a linear sequence of statements. During its process, a program may repeat segments of code, or take decisions and bifurcate. For that purpose, C++ provides flow control statements that serve to specify what has to be done by our program, when, and under which circumstances.\n",
    "\n",
    "In C++, a statement, or a flow control, helps program executing in programmed conditions. All conditioned code are written in a bracket `{}`. For example:\n",
    "\n",
    "```cpp\n",
    "{ statement 1; statement 2; }\n",
    "```"
   ]
  },
  {
   "cell_type": "markdown",
   "id": "0d07704b-c115-4842-a0ee-ad29d9cdd817",
   "metadata": {
    "execution": {
     "iopub.execute_input": "2023-09-30T08:19:50.877103Z",
     "iopub.status.busy": "2023-09-30T08:19:50.876361Z",
     "iopub.status.idle": "2023-09-30T08:19:52.618903Z",
     "shell.execute_reply": "2023-09-30T08:19:52.617696Z",
     "shell.execute_reply.started": "2023-09-30T08:19:50.877085Z"
    },
    "tags": []
   },
   "source": [
    "## Selection statements\n",
    "\n",
    "### `if`, `else if`, and `else` statements\n",
    "\n",
    "The `if`, `else if`, and `else` keyword is used to execute a statement or block. Its syntax is:\n",
    "\n",
    "```cpp\n",
    "if (condition) statement\n",
    "```\n",
    "\n",
    "The statement can only be executed when the condition is true. If not, the code will be skipped to the next condition, or passed without running.\n",
    "\n",
    "For example in the True/False application below. The if only executes when the x is 10, if not, the statements in `else` will be executed (`==` means `if equal`). You can change `int x = 10;` to another value, to see the differences.\n",
    "\n",
    "### `switch...case...`\n",
    "\n",
    "`switch...case...` do the same function as `if..else if...else` does, but its syntax is more effeciency. Its syntax is:\n",
    "\n",
    "```cpp\n",
    "switch (expression)\n",
    "{\n",
    "  case constant1:\n",
    "     group-of-statements-1;\n",
    "     break;\n",
    "  case constant2:\n",
    "     group-of-statements-2;\n",
    "     break;\n",
    "  default:\n",
    "     default-group-of-statements\n",
    "\n",
    "}\n",
    "```"
   ]
  },
  {
   "cell_type": "code",
   "execution_count": null,
   "id": "dc62a8a3-8967-4f23-b7d3-e91dad37f2af",
   "metadata": {
    "tags": []
   },
   "outputs": [],
   "source": [
    "int x = 10;\n",
    "if (x == 10) {\n",
    "    std::cout << \"x is equal to 10, for real\";\n",
    "} else {\n",
    "    std::cout << \"x is not equal to 10, for real\";\n",
    "}"
   ]
  },
  {
   "cell_type": "code",
   "execution_count": null,
   "id": "0a068bc0-decb-4879-95fb-c58c0457e508",
   "metadata": {
    "tags": []
   },
   "outputs": [],
   "source": [
    "int x = 10;\n",
    "switch (x) {\n",
    "    case 10:\n",
    "        std::cout << \"x is equal to 10, for real\";\n",
    "        break;\n",
    "    default:\n",
    "        std::cout << \"x is not equal to 10, for real\";\n",
    "        break;\n",
    "}"
   ]
  },
  {
   "cell_type": "markdown",
   "id": "348bcd57-2017-4f38-8559-2897410f902d",
   "metadata": {
    "execution": {
     "iopub.execute_input": "2023-09-30T08:30:42.307138Z",
     "iopub.status.busy": "2023-09-30T08:30:42.306287Z"
    },
    "tags": []
   },
   "source": [
    "## Iteration statements (loops)\n",
    "\n",
    "Loops repeat a statement a certain number of times, or while a condition is fulfilled. They are introduced by the keywords while, do, and for."
   ]
  },
  {
   "cell_type": "markdown",
   "id": "79733f94-ae7c-4029-831b-9a51bd477353",
   "metadata": {
    "execution": {
     "iopub.execute_input": "2023-09-30T08:38:14.637671Z",
     "iopub.status.busy": "2023-09-30T08:38:14.636363Z"
    },
    "tags": []
   },
   "source": [
    "### `while` loop\n",
    "\n",
    "`while` loop is the simplest loop statement. Its syntax is:\n",
    "\n",
    "```cpp\n",
    "while (expression) statement\n",
    "```\n",
    "\n",
    "The `while` loop repeats executing the statement, when the expression is still true.\n",
    "\n",
    "You can try running the code below to see the difference."
   ]
  },
  {
   "cell_type": "code",
   "execution_count": null,
   "id": "fd07d847-c5db-4706-8537-38dea37434fc",
   "metadata": {
    "tags": []
   },
   "outputs": [],
   "source": [
    "int x = 0;\n",
    "while (x < 10) //The code only execute when x is smaller than 10\n",
    "{\n",
    "    std::cout << x << \"\\n\";\n",
    "    x++; //x = x + 1\n",
    "}"
   ]
  },
  {
   "cell_type": "markdown",
   "id": "e8ee38da-e73d-4533-8580-6ee6a482e634",
   "metadata": {},
   "source": [
    "### `do-while` loop\n",
    "\n",
    "`do-while` do the same function as `while` loop, but it executes the statement before checking whether the condition is either true or false. Its syntax is:\n",
    "\n",
    "```cpp\n",
    "do statement while (condition);\n",
    "```\n",
    "\n",
    "You can try running the sample below to see the difference."
   ]
  },
  {
   "cell_type": "code",
   "execution_count": null,
   "id": "4c43d047-d829-4a9e-9725-19a02d7d6337",
   "metadata": {
    "tags": []
   },
   "outputs": [],
   "source": [
    "int x = 0;\n",
    "do {\n",
    "    x++;\n",
    "    std::cout << \"x is still smaller than 10\" << '\\n';\n",
    "} while (x < 10);"
   ]
  },
  {
   "cell_type": "markdown",
   "id": "bf06db50-37a8-441f-8dd9-b59dcefc887c",
   "metadata": {},
   "source": [
    "### `for` loop\n",
    "\n",
    "The `for` loop is designed to iterate a number of times. Its syntax is:\n",
    "\n",
    "```cpp\n",
    "for (initialization; condition; increase) statement;\n",
    "```\n",
    "\n",
    "You can try running the sample below to see the difference."
   ]
  },
  {
   "cell_type": "code",
   "execution_count": null,
   "id": "c912fded-27b3-4ceb-a16f-22efdec50f1b",
   "metadata": {
    "tags": []
   },
   "outputs": [],
   "source": [
    "//loop when n is still larger than 0. When the condition is true, the value of n is n - 1, then run the code in between the bracket\n",
    "for (int n = 10; n > 0; n--) {\n",
    "    std::cout << n << \", \";\n",
    "}"
   ]
  },
  {
   "cell_type": "markdown",
   "id": "dceb1064-0d9d-4711-9c3a-257f33870ce8",
   "metadata": {
    "execution": {
     "iopub.execute_input": "2023-09-30T09:36:19.462529Z",
     "iopub.status.busy": "2023-09-30T09:36:19.461096Z"
    },
    "tags": []
   },
   "source": [
    "## Jump statements\n",
    "\n",
    "Jump statements allow altering the flow of a program by performing jumps to specific locations."
   ]
  },
  {
   "cell_type": "markdown",
   "id": "e703d20f-f111-4be1-b4c7-283b8d8f0df5",
   "metadata": {},
   "source": [
    "### `break` statement\n",
    "\n",
    "`break` leaves a loop, even if the condition for its end is not fulfilled. It can be used to end an infinite loop, or to force it to end before its natural end.\n",
    "\n",
    "You can try running the sample code below to see the difference."
   ]
  },
  {
   "cell_type": "code",
   "execution_count": null,
   "id": "aa6ee17c-6213-47a4-a5cb-59f96780e804",
   "metadata": {
    "tags": []
   },
   "outputs": [],
   "source": [
    "for (int n=10; n>0; n--)\n",
    "{\n",
    "    std::cout << n << \", \";\n",
    "    if (n==3)\n",
    "    {\n",
    "      std::cout << \"countdown aborted!\";\n",
    "      break;\n",
    "    }\n",
    "}"
   ]
  },
  {
   "cell_type": "markdown",
   "id": "a42c41c3-c583-40cd-aca4-75b0f9be36fe",
   "metadata": {},
   "source": [
    "### `continue` statement\n",
    "\n",
    "The continue statement causes the program to skip the rest of the loop in the current iteration, as if the end of the statement block had been reached, causing it to jump to the start of the following iteration.\n",
    "    \n",
    "You can try running the sample code below to see the difference."
   ]
  },
  {
   "cell_type": "code",
   "execution_count": null,
   "id": "9924d8fd-e7b1-4c94-9b0d-d179cb957e16",
   "metadata": {},
   "outputs": [],
   "source": [
    "for (int n=10; n>0; n--) {\n",
    "    if (n==5) continue;\n",
    "    std::cout << n << \", \";\n",
    "}"
   ]
  },
  {
   "cell_type": "markdown",
   "id": "362c0771-8c0b-4540-be72-4d526678c410",
   "metadata": {},
   "source": [
    "### `goto` statement\n",
    "\n",
    "`goto` allows to make an absolute jump to another point in the program. This unconditional jump ignores nesting levels, and does not cause any automatic stack unwinding. Therefore, it is a feature to use with care, and preferably within the same block of statements, especially in the presence of local variables.\n",
    "\n",
    "The destination point is identified by a label, which is then used as an argument for the `goto` statement. A label is made of a valid identifier followed by a colon (:).\n",
    "\n",
    "You can try running the sample code below to see the difference."
   ]
  },
  {
   "cell_type": "code",
   "execution_count": null,
   "id": "f3124c35-4b15-497c-8088-66706a134309",
   "metadata": {
    "tags": []
   },
   "outputs": [],
   "source": [
    "    int n = 10;\n",
    "mylabel:\n",
    "    std::cout << n << \", \";\n",
    "    n--;\n",
    "    if (n>0) goto mylabel;\n",
    "    std::cout << \"liftoff!\\n\";"
   ]
  }
 ],
 "metadata": {
  "kernelspec": {
   "display_name": "C++ 14",
   "language": "cpp",
   "name": "cpp14"
  },
  "language_info": {
   "file_extension": ".cpp",
   "mimetype": "text/markdown",
   "name": "text/markdown"
  },
  "widgets": {
   "application/vnd.jupyter.widget-state+json": {
    "state": {},
    "version_major": 2,
    "version_minor": 0
   }
  }
 },
 "nbformat": 4,
 "nbformat_minor": 5
}
