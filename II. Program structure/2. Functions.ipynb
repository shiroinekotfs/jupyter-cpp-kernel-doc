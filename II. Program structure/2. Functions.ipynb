{
 "cells": [
  {
   "attachments": {
    "4510c85f-0cb4-4a03-9fae-c3e49cd6578e.png": {
     "image/png": "[encoded data removed]"
    }
   },
   "cell_type": "markdown",
   "id": "a4394c45-f9ec-437e-bb99-734bc4647b45",
   "metadata": {},
   "source": [
    "# Functions\n",
    "\n",
    "Functions allow to structure of programs in segments of code to perform individual tasks.\n",
    "\n",
    "In C++, a function is a group of statements that is given a name, and which can be called from some point of the program. The most common syntax to define a function is:\n",
    "\n",
    "```c++\n",
    "type name ( parameter1, parameter2, ...) { statements }\n",
    "```\n",
    "\n",
    "Where:\n",
    "\n",
    "* `type` is the type of the value returned by the function, except `void` (`void` means function with no type, so no return value)\n",
    "* `name` is the identifier by which the function can be called.\n",
    "* `parameters1`, `parameters2` (as many as needed): Each parameter consists of a type followed by an identifier, with each parameter being separated from the next by a comma. Each parameter looks very much like a regular variable declaration (for example: int x) and acts within the function as a regular variable that is local to the function. The purpose of parameters is to allow passing arguments to the function from the location where it is called.\n",
    "* `statements` is the function's body. It is a block of statements surrounded by braces { } that specify what the function does.\n",
    "\n",
    "> Special: `return` value of `main()` can be one of those returned value\n",
    "<table class=\"boxed\">\n",
    "<tbody><tr><th>value</th><th>description</th></tr>\n",
    "<tr><td><code>0</code></td><td>The program was successful</td></tr>\n",
    "<tr><td><code><a>EXIT_SUCCESS</a></code></td><td>The program was successful (same as above).<br>\n",
    "This value is defined in header <code><a>&lt;cstdlib&gt;</a></code>.</td></tr>\n",
    "<tr><td><code><a>EXIT_FAILURE</a></code></td><td>The program failed.<br>\n",
    "This value is defined in header <code><a>&lt;cstdlib&gt;</a></code>.</td></tr>\n",
    "</tbody></table><br>\n",
    "\n",
    "The code below demonstrates how to declare a function, using it in the main function.\n",
    "\n",
    "<p align=\"center\">\n",
    "<img src=\"attachment:4510c85f-0cb4-4a03-9fae-c3e49cd6578e.png\" />\n",
    "</p>\n",
    "\n",
    "You can try it."
   ]
  },
  {
   "cell_type": "code",
   "execution_count": null,
   "id": "e3ccbeec-9fdb-4515-b641-a5a5e330c57c",
   "metadata": {
    "tags": []
   },
   "outputs": [],
   "source": [
    "int addition (int a, int b = 3) //If the value assigned for b cannot be found, the var b will auto-assign to value 3\n",
    "{\n",
    "  int r;\n",
    "  r = a + b;\n",
    "  return r; //returns value for assign z var int main()\n",
    "}\n",
    "\n",
    "int main ()\n",
    "{\n",
    "  int z;\n",
    "  z = addition (5,3); //call function addition with 5 assigns as var a, and 3 as var b\n",
    "  std::cout << \"The result is \" << z;\n",
    "}"
   ]
  },
  {
   "cell_type": "markdown",
   "id": "07842386-bbdc-4cd5-8dae-e349e995dd2d",
   "metadata": {},
   "source": [
    "## The action function - `void` function\n",
    "\n",
    "The function `void` is the non-returned function, a special type representing the absence of value. It is used to execute certain action without return any value it gets."
   ]
  },
  {
   "cell_type": "code",
   "execution_count": null,
   "id": "4adc3034-f529-44fa-9a38-18c9f3ab681f",
   "metadata": {},
   "outputs": [],
   "source": [
    "void print_hello_world() {\n",
    "    std::cout << \"Hello World\";\n",
    "}\n",
    "\n",
    "int main() {\n",
    "    print_hello_world();\n",
    "}"
   ]
  },
  {
   "attachments": {
    "ecada315-7220-48cc-8482-33c5fbd10ef3.png": {
     "image/png": "[encoded data removed]"
    }
   },
   "cell_type": "markdown",
   "id": "7c4e4156-9480-498c-a989-d9a561f66bdf",
   "metadata": {},
   "source": [
    "## Arguments passed by value and by reference\n",
    "\n",
    "In some cases, accessing an external variable from within a function may be useful. To do that, arguments can be passed by **reference**, instead of by **value**.\n",
    "\n",
    "To gain access to its arguments, the function declares its parameters as references. In C++, references are indicated with an ampersand `&` following the parameter type, as in the parameters taken by duplicate in the example above.\r\n",
    "When a variable is passed **by reference**, what is passed is no longer a copy, but the variable itself, the variable identified by the function parameter, becomes somehow associated with the argument passed to the function, and any modification on their corresponding local variables within the function are reflected in the variables passed as arguments in the call.\n",
    "\n",
    "![image.png](attachment:ecada315-7220-48cc-8482-33c5fbd10ef3.png)\n"
   ]
  },
  {
   "cell_type": "code",
   "execution_count": null,
   "id": "54425835-80f4-4480-873b-bdf39019dccc",
   "metadata": {},
   "outputs": [],
   "source": [
    "void duplicate (int& a, int& b, int& c) {\n",
    "  a*=2;\n",
    "  b*=2;\n",
    "  c*=2;\n",
    "}\n",
    "\n",
    "int main () {\n",
    "  int x = 1, y = 3, z = 7;\n",
    "  duplicate(x, y, z);\n",
    "  std::cout << \"x = \" << x << \", y = \" << y << \", z = \" << z;\n",
    "}"
   ]
  },
  {
   "cell_type": "markdown",
   "id": "e8d102f8-42dc-4807-ad06-e13b77a2f0e3",
   "metadata": {},
   "source": [
    "## Inline functions\n",
    "\n",
    "Calling a function generally causes a certain overhead (stacking arguments, jumps, etc...), and thus for very short functions, it may be more efficient to simply insert the code of the function where it is called, instead of performing the process of formally calling a function.\r\n",
    "\n",
    "Preceding a function declaration with the `inline` specifier informs the compiler that inline expansion is preferred over the usual function call mechanism for a specific function. This does not change all the behavior of a function but is merely used to suggest to the compiler that the code generated by the function body shall be inserted at each point the function is called, instead of being invoked with a regular function call.\r\n",
    "\r\n",
    "For example, the concatenate function above may be declared inline as\n",
    "```c++\n",
    "inline std::string concatenate (const std::string& a, const std::string& b) { return a + \" \" +b; }\n",
    "```\n",
    "\n",
    "This informs the compiler that when `concatenate()` is called, the program prefers the function to be expanded `inline`, instead of performing a regular call. `inline` is only specified in the function declaration, not when it is called.\n",
    ":\r\n",
    "\n"
   ]
  },
  {
   "cell_type": "code",
   "execution_count": null,
   "id": "dd6bb7e1-4ac2-4c9e-96cd-9a531d8663d4",
   "metadata": {},
   "outputs": [],
   "source": [
    "inline std::string concatenate (const std::string& a, const std::string& b) { return a + \" \" +b; }\n",
    "\n",
    "int main() {\n",
    "    std::string hello = \"Hello Everyone!\", intro = \"This is Shiroi Neko\";\n",
    "    std::cout << concatenate(hello, intro);\n",
    "}"
   ]
  },
  {
   "cell_type": "markdown",
   "id": "6456b770-a716-4133-9738-c8dd38de4db0",
   "metadata": {},
   "source": [
    "## Default values in parameters\r\n",
    "In C++, functions can also have optional parameters, for which no arguments are required in the call, in such a way that, for example, a function with three parameters may be called with only two. For this, the function shall include a default value for its last parameter, which is used by the function when called with fewer arguments.\n",
    "\n",
    "For example, the string with default value *\"This is Shiro Neko\"* is set when no argument is set.\n",
    "\n",
    "```c++\n",
    "void shiroineko(bool& if_shiroi; std::string& string = \"This is Shiro Neko\") {\n",
    "    if if_shiroi {\n",
    "        std::cout << string;\n",
    "    } else {\n",
    "        std::cout << \"Oh, I am not Shiroi Neko\";\n",
    "    }\n",
    "}\n",
    "```\n"
   ]
  },
  {
   "cell_type": "code",
   "execution_count": null,
   "id": "8485fe36-fbed-4784-9832-e5b79aa49f74",
   "metadata": {},
   "outputs": [],
   "source": [
    "void combine(bool if_shiroi, std::string str = \"This is Shiro Neko\") {\n",
    "    if (if_shiroi) {\n",
    "        std::cout << str;\n",
    "    } else {\n",
    "        std::cout << \"Oh, I am not Shiroi Neko\";\n",
    "    }\n",
    "}\n",
    "\n",
    "int main() {\n",
    "    bool if_shiroi = true;\n",
    "    combine(if_shiroi); // Passing only the boolean parameter\n",
    "    return 0;\n",
    "}"
   ]
  },
  {
   "cell_type": "markdown",
   "id": "03d39f1f-93dc-427a-8156-37bdf20c42cd",
   "metadata": {},
   "source": [
    "## Recursivity\n",
    "\n",
    "Recursivity is the property that functions have to be called by themselves. It is useful for some tasks, such as sorting elements, or calculating the factorial of numbers. For example, in order to obtain the factorial of a number (n!) the mathematical formula would be:\r\n",
    "```c++\n",
    "long factorial (long a)  {\n",
    "  if (a > 1)\n",
    "   return (a * factorial (a-1));\n",
    "  else\n",
    "   return 1;\n",
    "}\n",
    "\n",
    "int main () {\n",
    "  long number = 9;\n",
    "  std::cout << number << \"! = \" << factorial (number);\n",
    "} ret\n",
    "urn 0;\r\n",
    "}\n",
    "```\n"
   ]
  },
  {
   "cell_type": "code",
   "execution_count": null,
   "id": "822a310e-ed55-498f-bd92-73f9340a7de7",
   "metadata": {},
   "outputs": [],
   "source": [
    "int factorial (int a)  {\n",
    "  if (a > 1)\n",
    "   return (a * factorial (a-1));\n",
    "  else\n",
    "   return 1;\n",
    "}\n",
    "\n",
    "int main () {\n",
    "  int number;\n",
    "  std::cin >> number;\n",
    "  std::cout << number << \"! = \" << factorial (number);\n",
    "}"
   ]
  }
 ],
 "metadata": {
  "kernelspec": {
   "display_name": "C++ 14",
   "language": "c++",
   "name": "cpp14"
  },
  "language_info": {
   "file_extension": ".cpp",
   "mimetype": "text/markdown",
   "name": "text/markdown"
  },
  "widgets": {
   "application/vnd.jupyter.widget-state+json": {
    "state": {},
    "version_major": 2,
    "version_minor": 0
   }
  }
 },
 "nbformat": 4,
 "nbformat_minor": 5
}
