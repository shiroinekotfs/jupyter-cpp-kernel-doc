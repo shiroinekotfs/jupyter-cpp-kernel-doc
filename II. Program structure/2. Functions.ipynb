{
 "cells": [
  {
   "attachments": {
    "4510c85f-0cb4-4a03-9fae-c3e49cd6578e.png": {
     "image/png": "[encoded data removed]"
    }
   },
   "cell_type": "markdown",
   "id": "a4394c45-f9ec-437e-bb99-734bc4647b45",
   "metadata": {},
   "source": [
    "# Functions\n",
    "\n",
    "Functions allow to structure programs in segments of code to perform individual tasks.\n",
    "\n",
    "In C++, a function is a group of statements that is given a name, and which can be called from some point of the program. The most common syntax to define a function is:\n",
    "\n",
    "```cpp\n",
    "type name ( parameter1, parameter2, ...) { statements }\n",
    "```\n",
    "\n",
    "Where:\n",
    "\n",
    "* `type` is the type of the value returned by the function, except `void` (`void` means function with no type, so no return value)\n",
    "* `name` is the identifier by which the function can be called.\n",
    "* `parameters1`, `parameters2` (as many as needed): Each parameter consists of a type followed by an identifier, with each parameter being separated from the next by a comma. Each parameter looks very much like a regular variable declaration (for example: int x), and in fact acts within the function as a regular variable which is local to the function. The purpose of parameters is to allow passing arguments to the function from the location where it is called from.\n",
    "* `statements` is the function's body. It is a block of statements surrounded by braces { } that specify what the function actually does.\n",
    "\n",
    "> Special: `return` value of `main()` can be one of those returned value\n",
    "<table class=\"boxed\">\n",
    "<tbody><tr><th>value</th><th>description</th></tr>\n",
    "<tr><td><code>0</code></td><td>The program was successful</td></tr>\n",
    "<tr><td><code><a>EXIT_SUCCESS</a></code></td><td>The program was successful (same as above).<br>\n",
    "This value is defined in header <code><a>&lt;cstdlib&gt;</a></code>.</td></tr>\n",
    "<tr><td><code><a>EXIT_FAILURE</a></code></td><td>The program failed.<br>\n",
    "This value is defined in header <code><a>&lt;cstdlib&gt;</a></code>.</td></tr>\n",
    "</tbody></table><br>\n",
    "\n",
    "The code below demostrates how to declare a function, using it into the main function.\n",
    "\n",
    "<p align=\"center\">\n",
    "<img src=\"attachment:4510c85f-0cb4-4a03-9fae-c3e49cd6578e.png\" />\n",
    "</p>\n",
    "\n",
    "You can try it."
   ]
  },
  {
   "cell_type": "code",
   "execution_count": null,
   "id": "e3ccbeec-9fdb-4515-b641-a5a5e330c57c",
   "metadata": {
    "tags": []
   },
   "outputs": [],
   "source": [
    "int addition (int a, int b = 3) //If the value assigns for b cannot be found, the var b will auto assign to value 3\n",
    "{\n",
    "  int r;\n",
    "  r = a + b;\n",
    "  return r; //returns value for assign z var int main()\n",
    "}\n",
    "\n",
    "int main ()\n",
    "{\n",
    "  int z;\n",
    "  z = addition (5,3); //call function addition with 5 assigns as var a, and 3 as var b\n",
    "  std::cout << \"The result is \" << z;\n",
    "}"
   ]
  }
 ],
 "metadata": {
  "kernelspec": {
   "display_name": "C++ 14",
   "language": "cpp",
   "name": "cpp14"
  },
  "language_info": {
   "file_extension": ".cpp",
   "mimetype": "text/markdown",
   "name": "text/markdown"
  },
  "widgets": {
   "application/vnd.jupyter.widget-state+json": {
    "state": {},
    "version_major": 2,
    "version_minor": 0
   }
  }
 },
 "nbformat": 4,
 "nbformat_minor": 5
}
