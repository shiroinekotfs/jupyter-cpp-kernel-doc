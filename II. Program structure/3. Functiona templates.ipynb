{
 "cells": [
  {
   "cell_type": "markdown",
   "id": "098c0bdd-c5b6-4851-a4d6-4f3129042e7c",
   "metadata": {},
   "source": [
    "# Function templates\n",
    "\n",
    "Overloaded functions may have the same definition. Its syntax is:\n",
    "\n",
    "```cpp\n",
    "template <class Type>\n",
    "Type name (Type a, Type b, ...)\n",
    "{\n",
    "  statements\n",
    "}\n",
    "```\n",
    "\n",
    "Where:\n",
    "\n",
    "* `Type` is the type of variable (e.g. `string`, `int`, or `double`)\n",
    "* `name` is the identifier by which the function can be called.\n",
    "* `Type a`, `Type b`, ... (as many as needed): Each parameter consists of a type followed by an identifier, with each parameter being separated from the next by a comma. Each parameter looks very much like a regular variable declaration (for example: int x), and in fact acts within the function as a regular variable which is local to the function. The purpose of parameters is to allow passing arguments to the function from the location where it is called from.\n",
    "\n",
    "The code below demostrates how to declare a function, using it into the main function. You can try thís."
   ]
  },
  {
   "cell_type": "code",
   "execution_count": null,
   "id": "5ca488b2-a96d-492b-a990-8b27e5002e14",
   "metadata": {
    "tags": []
   },
   "outputs": [],
   "source": [
    "template <class T, class U>\n",
    "bool are_equal (T a, U b)\n",
    "{\n",
    "  return (a==b);\n",
    "}\n",
    "\n",
    "int main ()\n",
    "{\n",
    "  if (are_equal(10,10.0))\n",
    "    std::cout << \"x and y are equal\\n\";\n",
    "  else\n",
    "    std::cout << \"x and y are not equal\\n\";\n",
    "  return 0;\n",
    "}"
   ]
  }
 ],
 "metadata": {
  "kernelspec": {
   "display_name": "C++ 14",
   "language": "cpp",
   "name": "cpp14"
  },
  "language_info": {
   "file_extension": ".cpp",
   "mimetype": "text/markdown",
   "name": "text/markdown"
  },
  "widgets": {
   "application/vnd.jupyter.widget-state+json": {
    "state": {},
    "version_major": 2,
    "version_minor": 0
   }
  }
 },
 "nbformat": 4,
 "nbformat_minor": 5
}
