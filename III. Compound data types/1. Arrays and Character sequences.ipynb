{
 "cells": [
  {
   "attachments": {
    "26d3bd76-1972-46d4-8f2e-593c69c295f1.png": {
     "image/png": "[encoded data removed]"
    }
   },
   "cell_type": "markdown",
   "id": "c948518f-c8ae-43f6-a790-670f72741719",
   "metadata": {},
   "source": [
    "# Arrays and Character sequences\n",
    "\n",
    "An array is a series of elements of the same type placed in contiguous memory locations that can be individually referenced by adding an index to a unique identifier.\n",
    "\n",
    "For example, an array containing 5 integer values of type int called foo could be represented as:\n",
    "\n",
    "![image.png](attachment:26d3bd76-1972-46d4-8f2e-593c69c295f1.png)\n",
    "\n",
    "where each blank panel represents an element of the array. In this case, these are values of type int. These elements are numbered from 0 to 4, being 0 the first and 4 the last; In C++, the first element in an array is always numbered with a zero (not a one), no matter its length.\n",
    "\n",
    "The Character sequences, however, are the arrays, where each character is the array element, and can do the same function as a normal array does.\n",
    "\n",
    "For initializing an array, do this:\n",
    "\n",
    "```cpp\n",
    "int array[5];\n",
    "```\n",
    "\n",
    "To inport value into an array, that is having 5 values, try this:\n",
    "\n",
    "```cpp\n",
    "int array[5] = {1, 2, 3, 4, 5};\n",
    "```\n",
    "\n",
    "Or, if you don't know how much values you want to import into an array, try this:\n",
    "\n",
    "```cpp\n",
    "int array[] = {1, 2, 3, 4, 5};\n",
    "```\n",
    "\n",
    "If you want to use character sequence as an array, you can try this:\n",
    "\n",
    "```cpp\n",
    "char myntcs[] = \"some characters\";\n",
    "```"
   ]
  },
  {
   "cell_type": "code",
   "execution_count": 6,
   "id": "3354cedb-537c-4ba3-834f-e08423415bcb",
   "metadata": {
    "execution": {
     "iopub.execute_input": "2023-09-30T13:09:57.292456Z",
     "iopub.status.busy": "2023-09-30T13:09:57.292106Z",
     "iopub.status.idle": "2023-09-30T13:10:00.133913Z",
     "shell.execute_reply": "2023-09-30T13:10:00.133178Z",
     "shell.execute_reply.started": "2023-09-30T13:09:57.292441Z"
    },
    "tags": []
   },
   "outputs": [],
   "source": [
    "int array[] = {1, 2, 3, 4, 5};"
   ]
  },
  {
   "cell_type": "markdown",
   "id": "2a36d3b1-cdd5-4fa4-a3a7-f9c647e3a211",
   "metadata": {},
   "source": [
    "## Accessing to an array\n",
    "\n",
    "The values of any of the elements in an array can be accessed just like the value of a regular variable of the same type. The syntax is:\n",
    "\n",
    "```cpp\n",
    "name[index]\n",
    "```\n",
    "\n",
    "For example, if you want to access value in an array, which is in the index 4th, try this:\n",
    "\n",
    "```cpp\n",
    "int array[] = {1, 2, 3, 4, 5};\n",
    "array[4];\n",
    "```"
   ]
  },
  {
   "cell_type": "code",
   "execution_count": null,
   "id": "20e45ee3-93f0-4780-ae3c-073469c05d7a",
   "metadata": {
    "tags": []
   },
   "outputs": [],
   "source": [
    "int array[] = {1, 2, 3, 4, 5};\n",
    "std::cout << array[4];"
   ]
  },
  {
   "attachments": {
    "e5e83e65-3881-47f7-8c2b-314bdfbb2341.png": {
     "image/png": "[encoded data removed]"
    }
   },
   "cell_type": "markdown",
   "id": "c7408db4-d94f-4b7e-a88b-15dcbf1fd214",
   "metadata": {},
   "source": [
    "## Multidimensional arrays\n",
    "\n",
    "Multidimensional arrays can be described as \"arrays of arrays\". For example, a bidimensional array can be imagined as a two-dimensional table made of elements, all of them of a same uniform data type.\n",
    "\n",
    "![image.png](attachment:e5e83e65-3881-47f7-8c2b-314bdfbb2341.png)\n",
    "\n",
    "jimmy represents a bidimensional array of 3 per 5 elements of type int. The C++ syntax for this is:\n",
    "\n",
    "```cpp\n",
    "int jimmy [2][2];\n",
    "```\n",
    "\n",
    "If you want to access to an array, do the same path as you do when access to the array. For example, you want to access to the 1st index of 2nd index in the `jimmy` array, you can try this:\n",
    "\n",
    "```cpp\n",
    "int jimmy[2][2] = {{1,2}, {3,4}};\n",
    "std::cout << jimmy[2][1];\n",
    "```"
   ]
  },
  {
   "cell_type": "code",
   "execution_count": null,
   "id": "8a9efd04-e94f-4a59-8faa-4ee608b6abbc",
   "metadata": {
    "tags": []
   },
   "outputs": [],
   "source": [
    "int jimmy[2][2] = {{1,2}, {3,4}};\n",
    "std::cout << jimmy[1][0];"
   ]
  }
 ],
 "metadata": {
  "kernelspec": {
   "display_name": "C++ 14",
   "language": "cpp",
   "name": "cpp14"
  },
  "language_info": {
   "file_extension": ".cpp",
   "mimetype": "text/markdown",
   "name": "text/markdown"
  },
  "widgets": {
   "application/vnd.jupyter.widget-state+json": {
    "state": {},
    "version_major": 2,
    "version_minor": 0
   }
  }
 },
 "nbformat": 4,
 "nbformat_minor": 5
}
