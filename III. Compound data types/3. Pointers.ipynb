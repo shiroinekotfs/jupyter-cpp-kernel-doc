{
 "cells": [
  {
   "cell_type": "markdown",
   "id": "e6312d20-4103-4810-87f2-75daf0739336",
   "metadata": {},
   "source": [
    "# Pointers\n",
    "\n",
    "In C++, pointers are used to obtain the address of a variable during runtime in order to access data cells that are at a certain position relative to it."
   ]
  },
  {
   "attachments": {
    "9cf38e11-6bd6-4104-9e1c-c7ce8fb3ee7d.png": {
     "image/png": "[encoded data removed]"
    }
   },
   "cell_type": "markdown",
   "id": "2ba422cd-3536-45a5-a02f-55d0fbdac539",
   "metadata": {},
   "source": [
    "## Address-of operator (`&`)\n",
    "\n",
    "The address of a variable can be obtained by preceding the name of a variable with an ampersand sign (&), known as address-of operator. For example:\n",
    "\n",
    "```cpp\n",
    "int myVar;\n",
    "std::cout << &myVar; //print out the memory location\n",
    "```\n",
    "\n",
    "This would assign the address of variable `myVar` to `foo`; by preceding the name of the variable `myVar` with the **address-of operator** (`&`), we are no longer assigning the content of the variable itself to foo, but its address.\n",
    "\n",
    "![image.png](attachment:9cf38e11-6bd6-4104-9e1c-c7ce8fb3ee7d.png)"
   ]
  },
  {
   "cell_type": "code",
   "execution_count": null,
   "id": "6128020b-02dc-4568-a526-d0bc1bc565c4",
   "metadata": {
    "tags": []
   },
   "outputs": [],
   "source": [
    "int myVar;\n",
    "std::cout << &myVar; //print out the memory location"
   ]
  },
  {
   "attachments": {
    "20dd6b6d-0c5b-4f77-ba33-6f379eb5a83a.png": {
     "image/png": "[encoded data removed]"
    }
   },
   "cell_type": "markdown",
   "id": "27aeb7a6-a5ac-4411-aa62-7230be400931",
   "metadata": {},
   "source": [
    "## Dereference operator (`*`)\n",
    "\n",
    "Dereference operator is used to access to the variable they point to directly, by getting their value. `*` also can be read as `value pointed to by`.\n",
    "\n",
    "Therefore, following with the values of the previous example, the following statement:\n",
    "\n",
    "```cpp\n",
    "int foo = 1776;\n",
    "std::cout << *(&foo); //printing out the value of memory location storing value of variable foo\n",
    "```\n",
    "\n",
    "This could be read as: \"baz equal to value pointed to by foo\", and the statement would actually assign the value 25 to baz, since foo is 1776, and the value pointed to by 1776 (following the example above) would be 25.\n",
    "\n",
    "![image.png](attachment:20dd6b6d-0c5b-4f77-ba33-6f379eb5a83a.png)"
   ]
  },
  {
   "cell_type": "code",
   "execution_count": null,
   "id": "cbac654d-39d7-4312-be4d-34254e5d1048",
   "metadata": {
    "tags": []
   },
   "outputs": [],
   "source": [
    "int foo = 1776;\n",
    "std::cout << *(&foo); //printing out the value of memory location storing value of variable foo"
   ]
  },
  {
   "cell_type": "markdown",
   "id": "d6ece0d7-e086-4dd2-9053-63bda91e55eb",
   "metadata": {},
   "source": [
    "## Declaring pointers\n",
    "\n",
    "Due to the ability of a pointer to directly refer to the value that it points to, a pointer has different properties when it points to a char than when it points to an `int` or a `float`. Once dereferenced, the type needs to be known. For that, the declaration of a pointer needs to include the data type the pointer is going to point to.\n",
    "\n",
    "The declaration of pointers follows this syntax:\n",
    "\n",
    "```cpp\n",
    "type * name;\n",
    "```\n",
    "\n",
    "where `type` is the datatype of that pointer. This type is not the type that the pointer represents itself, but it is the type of data that it initializes in the memory.\n",
    "\n",
    "In the exsample below, you will know how the pointers can actually work, by looking for the basic math function:\n",
    "\n",
    "```latex\n",
    "y = x^2 - x\n",
    "```\n"
   ]
  },
  {
   "cell_type": "code",
   "execution_count": null,
   "id": "8a609a6b-54e2-44d7-8377-30fda97ad172",
   "metadata": {},
   "outputs": [],
   "source": [
    "int *p, user_input, value = 0; //initialize x^2, x and input value\n",
    "\n",
    "std::cin >> user_input;   //get user input\n",
    "\n",
    "p = &value;   //get the memory location of variable user_input\n",
    "*p = user_input * user_input - user_input; //change its memory value to\n",
    "\n",
    "std::cout << user_input << \"^2 - \" << user_input << \": \" << value;"
   ]
  },
  {
   "cell_type": "markdown",
   "id": "dbed5a7d-cc7a-4345-be21-d690b9f18828",
   "metadata": {},
   "source": [
    "## Pointers and arrays\n",
    "\n",
    "As per the previous array session, you already know that an array is a series of data inside, where each contains a separate value.\n",
    "\n",
    "The implementation of a pointer in an array is when you know the first location of an array, you will exactly where the rest are located, by adding *+1* in the pointer pointing to the memory location, each time you want to access a value inside that array.\n",
    "\n",
    "In the example below, you will see how a point can modify the value of an array, by only knowing its first value, then changing the rest of the value. This array may have 5 values inside it, where they present this math function:\n",
    "\n",
    "```latex\n",
    "x, x*2, x*3, x*4, x*5\n",
    "```\n"
   ]
  },
  {
   "cell_type": "code",
   "execution_count": null,
   "id": "468678fa-9bb9-4734-9182-e10b6906ffe2",
   "metadata": {},
   "outputs": [],
   "source": [
    "int numbers[5], *p;\n",
    "int firstNumber; \n",
    "std::cin >> firstNumber; \n",
    "\n",
    "p = numbers; // The address of the first element of the array is automatically obtained when the array name is used.\n",
    "*p = firstNumber; \n",
    "\n",
    "for (int i = 1; i < 5; i++) // start from the second element\n",
    "    *(++p) = (*p) * 2; // increment the pointer and store the doubled value\n",
    "\n",
    "// print all 5 values\n",
    "for (int i = 0; i < 5; i++)\n",
    "    std::cout << numbers[i] << \" \";"
   ]
  },
  {
   "attachments": {
    "7457e132-9069-483d-8445-84ed7836c459.png": {
     "image/png": "[encoded data removed]"
    }
   },
   "cell_type": "markdown",
   "id": "47ecbd60-e866-465c-840a-799f7fd38ef3",
   "metadata": {},
   "source": [
    "## Pointer arithmetics\n",
    "\n",
    "A pointer is primarily just the value that stores the memory location of a variable. It is a memory location, in short, just a number. And like any number, it acts as usual like any type of mathematic operation.\n",
    "\n",
    "Suppose the pointers:\n",
    "\n",
    "```cpp\n",
    "char *mychar;\n",
    "short *myshort;\n",
    "long *mylong;\n",
    "```\n",
    "\n",
    "represent the memory location of a `char`, a `short`, or a `long`. Note that a `char` has a size of 1 byte, a `short` has 2, and a `long` has 4.\n",
    "\n",
    "Therefore, when we change the memory location of each, by using this operator, as any integer does.\n",
    "\n",
    "```cpp\n",
    "mychar = mychar + 1;\n",
    "myshort = myshort + 1;\n",
    "mylong = mylong + 1;\n",
    "```\n",
    "\n",
    "> Note that working with a pointer is quite a little different, especially when you increase the memory. This is because the pointer of a data type contains a certain memory value, as mentioned earlier. To exactly know where your pointer goes, you can see this formula:\n",
    "> \n",
    "> **(Your Pointer Location) = (Your Pointer Previous Location) + (Your datatype size) + (Amount of Jump) - 1**\n",
    ">\n",
    "> To know exactly what it means, you can see this graph:\n",
    "> ![image.png](attachment:7457e132-9069-483d-8445-84ed7836c459.png)\n",
    "\n",
    "Essentially, these are the four possible combinations of the dereference operator with both the prefix and suffix versions of the increment operator (the same being applicable also to the decrement operator):\n",
    "\n",
    "```cpp\n",
    "*p++   // same as *(p++): increment pointer, and dereference unincremented address\n",
    "*++p   // same as *(++p): increment pointer, and dereference incremented address\n",
    "++*p   // same as ++(*p): dereference pointer, and increment the value it points to\n",
    "(*p)++ // dereference pointer, and post-increment the value it points to \n",
    "```\n",
    "\n"
   ]
  },
  {
   "cell_type": "code",
   "execution_count": null,
   "id": "bbecdb81-ff7f-454c-8fc8-7145d2ec768e",
   "metadata": {},
   "outputs": [],
   "source": [
    "char myChars[] = { 'h', 'i', '\\0' }; //array of hi\n",
    "char *p; //pointer p\n",
    "\n",
    "p = &myChars[0];\n",
    "p++;\n",
    "std::cout << \"Before modification: \" << myChars << std::endl;\n",
    "\n",
    "*p = 'a';\n",
    "std::cout << \"After modification: \" << myChars << std::endl;"
   ]
  },
  {
   "cell_type": "markdown",
   "id": "378efd4a-19f7-44cd-bd61-b3a29ec37d0a",
   "metadata": {},
   "source": [
    "## Constant pointers\n",
    "\n",
    "Constant pointer is used to access the pointed value to read, but not modify it. For example:"
   ]
  },
  {
   "cell_type": "code",
   "execution_count": null,
   "id": "b7d3fd9d-8227-4ce8-a760-31da5e4a40c1",
   "metadata": {},
   "outputs": [],
   "source": [
    "int x, y = 10;\n",
    "const int *p = &y;\n",
    "x = *p; //ok\n",
    "*p = x; //error"
   ]
  },
  {
   "cell_type": "markdown",
   "id": "1faf3084-faa2-4f64-8d27-5f2bf6950db5",
   "metadata": {},
   "source": [
    "## `void` pointers\n",
    "\n",
    "The void type of pointer is a special type of pointer. In C++, void represents the absence of type. Therefore, void pointers are pointers that point to a value that has no type (and thus also an undetermined length and undetermined dereferencing properties).\n",
    "\n",
    "This gives void pointers a great flexibility, by being able to point to any data type, from an integer value or a float to a string of characters. In exchange, they have a great limitation: the data pointed to by them cannot be directly dereferenced (which is logical, since we have no type to dereference to), and for that reason, any address in a void pointer needs to be transformed into some other pointer type that points to a concrete data type before being dereferenced."
   ]
  },
  {
   "cell_type": "code",
   "execution_count": null,
   "id": "0ff6a049-6a60-4deb-8872-a0fe5d8923c1",
   "metadata": {},
   "outputs": [],
   "source": [
    "void increase (void* data, int psize)\n",
    "{\n",
    "  if ( psize == sizeof(char) )\n",
    "  { char* pchar; pchar=(char*)data; ++(*pchar); }\n",
    "  else if (psize == sizeof(int) )\n",
    "  { int* pint; pint=(int*)data; ++(*pint); }\n",
    "}\n",
    "\n",
    "int main ()\n",
    "{\n",
    "  char a = 'x';\n",
    "  int b = 1602;\n",
    "  increase (&a,sizeof(a));\n",
    "  increase (&b,sizeof(b));\n",
    "  std::cout << a << \", \" << b << '\\n';\n",
    "  return 0;\n",
    "}"
   ]
  },
  {
   "cell_type": "markdown",
   "id": "e287d4f4-8ddb-4f96-a338-5755d4f0a3c4",
   "metadata": {},
   "source": [
    "## Pointers to functions\n",
    "\n",
    "C++ allows operations with pointers to functions. The typical use of this is for passing a function as an argument to another function. Pointers to functions are declared with the same syntax as a regular function declaration, except that the name of the function is enclosed between parentheses () and an asterisk (*) is inserted before the name:"
   ]
  },
  {
   "cell_type": "code",
   "execution_count": null,
   "id": "528b4e05-a6ab-4747-abb9-d190e97306c2",
   "metadata": {},
   "outputs": [],
   "source": [
    "int addition (int a, int b)\n",
    "{ return (a+b); }\n",
    "\n",
    "int subtraction (int a, int b)\n",
    "{ return (a-b); }\n",
    "\n",
    "int operation (int x, int y, int (*functocall)(int,int))\n",
    "{\n",
    "  int g;\n",
    "  g = (*functocall)(x,y);\n",
    "  return (g);\n",
    "}\n",
    "\n",
    "int main ()\n",
    "{\n",
    "  int m,n;\n",
    "  int (*minus)(int,int) = subtraction;\n",
    "\n",
    "  m = operation (7, 5, addition);\n",
    "  n = operation (20, m, minus);\n",
    "  std::cout << n;\n",
    "  return 0;\n",
    "}"
   ]
  }
 ],
 "metadata": {
  "kernelspec": {
   "display_name": "C++ 14",
   "language": "cpp",
   "name": "cpp14"
  },
  "language_info": {
   "file_extension": ".cpp",
   "mimetype": "text/markdown",
   "name": "text/markdown"
  },
  "widgets": {
   "application/vnd.jupyter.widget-state+json": {
    "state": {},
    "version_major": 2,
    "version_minor": 0
   }
  }
 },
 "nbformat": 4,
 "nbformat_minor": 5
}
