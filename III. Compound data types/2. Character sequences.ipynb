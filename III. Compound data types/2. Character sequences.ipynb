{
 "cells": [
  {
   "attachments": {
    "1deed7c1-c732-4443-8ee9-f15552a4d740.png": {
     "image/png": "[encoded data removed]"
    },
    "bf18f5fb-9846-43dc-98e4-ef86a3e4d808.png": {
     "image/png": "[encoded data removed]"
    }
   },
   "cell_type": "markdown",
   "id": "6877bc7e-8805-4659-b230-eb8dc1aad2c4",
   "metadata": {},
   "source": [
    "# Character sequences\n",
    "\n",
    "The string class has been briefly introduced in an earlier chapter. It is a very powerful class to handle and manipulate strings of characters. However, because strings are, in fact, sequences of characters, we can represent them also as plain arrays of elements of a character type.\n",
    "\n",
    "For example, the following array:\n",
    "\n",
    "```cpp\n",
    "char foo [20];\n",
    "```\n",
    "\n",
    "is an array that can store up to 20 elements of type char. It can be represented as:\n",
    "\n",
    "![image.png](attachment:bf18f5fb-9846-43dc-98e4-ef86a3e4d808.png)\n",
    "\n",
    "Therefore, this array can store sequences of up to 20 characters. But this capacity does not need to be fully exhausted: the array can also accommodate shorter sequences. For example, at some point in a program, either the sequence *\"Hello\"* or the sequence *\"Merry Christmas\"* can be stored in foo, since both would fit in a sequence with a capacity for 20 characters.\n",
    "\n",
    "By convention, the end of strings represented in character sequences is signaled by a special character: the null character, whose literal value can be written as '\\0' (backslash, zero).\n",
    "\n",
    "In this case, the array of 20 elements of type char called foo can be represented by storing the character sequences \"Hello\" and \"Merry Christmas\" as:\n",
    "\n",
    "![image.png](attachment:1deed7c1-c732-4443-8ee9-f15552a4d740.png)\n",
    "\n",
    "Notice how after the content of the string itself, a null character ('\\0') has been added to indicate the end of the sequence. The panels in gray color represent char elements with undetermined values."
   ]
  },
  {
   "cell_type": "code",
   "execution_count": null,
   "id": "53267bfc-1ee6-4e38-b0b2-0069f36b3f96",
   "metadata": {},
   "outputs": [],
   "source": [
    "std::string SampleString = \"Hello\\0Merry Christmas\\0\";\n",
    "std::cout << SampleString[0]; //It will print the letter H because the first letter is ordered in 0"
   ]
  },
  {
   "cell_type": "markdown",
   "id": "f2f838ca-1de6-4201-b618-a13a8408705c",
   "metadata": {},
   "source": [
    "## Initialization of null-terminated character sequences\n",
    "\n",
    "Because arrays of characters are ordinary arrays, they follow the same rules as these. As this statement, the initialization of a string-array looks like this:\n",
    "\n",
    "```cpp\n",
    "char string[] = { 'C', '+', '+', '\\0' };\n",
    "```\n",
    "\n",
    "In this case, the double quote (`\"`) is not directly used, because it is the ***literal constant***. And their type is, in fact, a null-terminated array of characters. This means that string literals always have a null character ('\\0') automatically appended at the end.\n",
    "\n",
    "Note that you **cannot declare a character sequence** (once it's already declared as the array of characters) **as a normal string**, because it is an array in term."
   ]
  },
  {
   "cell_type": "code",
   "execution_count": null,
   "id": "b63763c7-06aa-41a4-b1e3-0e8d4ccbf969",
   "metadata": {},
   "outputs": [],
   "source": [
    "char string[] = { 'C', '+', '+', '\\0' };\n",
    "std::cout << string;"
   ]
  },
  {
   "cell_type": "markdown",
   "id": "deba08fb-f462-41fd-ae01-bb0e110e108b",
   "metadata": {},
   "source": [
    "## Strings and null-terminated character sequences\n",
    "\n",
    "In C, plain arrays with null-terminated sequences of characters (C-strings) are often used to represent strings. In C++, although there's a specific type (class string) for strings, C-strings are still commonly used. It's worth noting that string literals always produce null-terminated character sequences, not `string` objects.\n",
    "\n",
    "In the standard library, both representations for strings (C-strings and library strings) coexist, and most functions requiring strings are overloaded to support both.\n",
    "\n",
    "For this example, the **get user input command** (a.k.a `cin`) and **print output** (a.k.a `cout`) are used to take action on their manipulation to the string-arrays as the common strings, where both string-array and strings are quite acting in the same way. However, the string-array is declared to only have a **fixed** (a.k.a **maximum**) of certain characters. This is helpful because ****not in all situations, the computer has **enough memory** to **provide a large number of characters simultaneously**."
   ]
  },
  {
   "cell_type": "code",
   "execution_count": null,
   "id": "edc9d597-3a02-4e27-a5af-d683bf49a518",
   "metadata": {},
   "outputs": [],
   "source": [
    "std::string nameAsking = \"What's your name?\", ageAsking = \"How long have you lived?\"; //Questions\n",
    "char name[30], age[4]; //Answers\n",
    "\n",
    "std::cout << nameAsking;\n",
    "std::cin >> name;\n",
    "std::cout << std::endl << ageAsking;\n",
    "std::cin >> age;\n",
    "\n",
    "std::cout << \"Oh, hi \" << name << \". You're now \" << age << \" this year.\" << std::endl;"
   ]
  }
 ],
 "metadata": {
  "kernelspec": {
   "display_name": "C++ 14",
   "language": "cpp",
   "name": "cpp14"
  },
  "language_info": {
   "file_extension": ".cpp",
   "mimetype": "text/markdown",
   "name": "text/markdown"
  }
 },
 "nbformat": 4,
 "nbformat_minor": 5
}
