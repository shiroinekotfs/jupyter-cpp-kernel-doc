{
 "cells": [
  {
   "cell_type": "markdown",
   "id": "e6312d20-4103-4810-87f2-75daf0739336",
   "metadata": {},
   "source": [
    "# Pointers\n",
    "\n",
    "In C++, pointers are used to obtain the address of a variable during runtime in order to access data cells that are at a certain position relative to it."
   ]
  },
  {
   "attachments": {
    "9cf38e11-6bd6-4104-9e1c-c7ce8fb3ee7d.png": {
     "image/png": "[encoded data removed]"
    }
   },
   "cell_type": "markdown",
   "id": "2ba422cd-3536-45a5-a02f-55d0fbdac539",
   "metadata": {},
   "source": [
    "## Address-of operator (`&`)\n",
    "\n",
    "The address of a variable can be obtained by preceding the name of a variable with an ampersand sign (&), known as address-of operator. For example:\n",
    "\n",
    "```cpp\n",
    "int myVar;\n",
    "std::cout << &myVar; //print out the memory location\n",
    "```\n",
    "\n",
    "This would assign the address of variable `myVar` to `foo`; by preceding the name of the variable `myVar` with the **address-of operator** (`&`), we are no longer assigning the content of the variable itself to foo, but its address.\n",
    "\n",
    "![image.png](attachment:9cf38e11-6bd6-4104-9e1c-c7ce8fb3ee7d.png)"
   ]
  },
  {
   "cell_type": "code",
   "execution_count": null,
   "id": "6128020b-02dc-4568-a526-d0bc1bc565c4",
   "metadata": {
    "tags": []
   },
   "outputs": [],
   "source": [
    "int myVar;\n",
    "std::cout << &myVar; //print out the memory location"
   ]
  },
  {
   "attachments": {
    "20dd6b6d-0c5b-4f77-ba33-6f379eb5a83a.png": {
     "image/png": "[encoded data removed]"
    }
   },
   "cell_type": "markdown",
   "id": "27aeb7a6-a5ac-4411-aa62-7230be400931",
   "metadata": {},
   "source": [
    "## Dereference operator (`*`)\n",
    "\n",
    "Dereference operator is used to access to the variable they point to directly, by getting their value. `*` also can be read as `value pointed to by`.\n",
    "\n",
    "Therefore, following with the values of the previous example, the following statement:\n",
    "\n",
    "```cpp\n",
    "int foo = 1776;\n",
    "std::cout << *(&foo); //printing out the value of memory location storing value of variable foo\n",
    "```\n",
    "\n",
    "This could be read as: \"baz equal to value pointed to by foo\", and the statement would actually assign the value 25 to baz, since foo is 1776, and the value pointed to by 1776 (following the example above) would be 25.\n",
    "\n",
    "![image.png](attachment:20dd6b6d-0c5b-4f77-ba33-6f379eb5a83a.png)"
   ]
  },
  {
   "cell_type": "code",
   "execution_count": null,
   "id": "cbac654d-39d7-4312-be4d-34254e5d1048",
   "metadata": {
    "tags": []
   },
   "outputs": [],
   "source": [
    "int foo = 1776;\n",
    "std::cout << *(&foo); //printing out the value of memory location storing value of variable foo"
   ]
  }
 ],
 "metadata": {
  "kernelspec": {
   "display_name": "C++ 14",
   "language": "cpp",
   "name": "cpp14"
  },
  "language_info": {
   "file_extension": ".cpp",
   "mimetype": "text/markdown",
   "name": "text/markdown"
  },
  "widgets": {
   "application/vnd.jupyter.widget-state+json": {
    "state": {},
    "version_major": 2,
    "version_minor": 0
   }
  }
 },
 "nbformat": 4,
 "nbformat_minor": 5
}
