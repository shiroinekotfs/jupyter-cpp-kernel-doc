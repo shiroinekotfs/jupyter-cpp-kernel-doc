{
 "cells": [
  {
   "cell_type": "markdown",
   "id": "de922dd9-453c-4964-b6b9-321e7da187a4",
   "metadata": {},
   "source": [
    "# Dynamic memory\n",
    "\n",
    "In C++, dynamic memory is used to dynamically allocate memory, to only be determined during runtime for which the C++ language integrates the operators `new` and `delete`."
   ]
  },
  {
   "attachments": {
    "5608b406-204d-42fa-8ce8-4c09e28da998.png": {
     "image/png": "[encoded data removed]"
    }
   },
   "cell_type": "markdown",
   "id": "698f2d29-2dd8-4466-9e82-eeb9a2773850",
   "metadata": {},
   "source": [
    "## Operators `new` and `new[]`\n",
    "\n",
    "Dynamic memory is allocated using operator new. new is followed by a data type specifier and, if a sequence of more than one element is required, the number of these within brackets []. It returns a pointer to the beginning of the new block of memory allocated. Its syntax is:\n",
    "\n",
    "```cpp\n",
    "pointer = new type\n",
    "pointer = new type [number_of_elements]\n",
    "```\n",
    "\n",
    "The first expression is used to allocate memory to contain one single element of type type. The second one is used to allocate a block (an array) of elements of type type, where number_of_elements is an integer value representing the amount of these. For example:\n",
    "\n",
    "```cpp\n",
    "int * foo;\n",
    "foo = new int [5];\n",
    "```\n",
    "\n",
    "In this case, the system dynamically allocates space for five elements of type int and returns a pointer to the first element of the sequence, which is assigned to foo (a pointer). Therefore, foo now points to a valid block of memory with space for five elements of type int.\n",
    "\n",
    "![image.png](attachment:5608b406-204d-42fa-8ce8-4c09e28da998.png)"
   ]
  },
  {
   "cell_type": "code",
   "execution_count": null,
   "id": "bf44a98a-dc55-4466-a48e-511d6fa81a3c",
   "metadata": {
    "tags": []
   },
   "outputs": [],
   "source": [
    "int * foo;\n",
    "foo = new int [5];"
   ]
  },
  {
   "cell_type": "markdown",
   "id": "f4b25ecb-c472-4252-8585-c8170ad7a691",
   "metadata": {},
   "source": [
    "## Operators `delete` and `delete[]`\n",
    "\n",
    "In most cases, memory allocated dynamically is only needed during specific periods of time within a program; once it is no longer needed, it can be freed so that the memory becomes available again for other requests of dynamic memory. This is the purpose of operator delete, whose syntax is:\n",
    "\n",
    "```cpp\n",
    "delete pointer;\n",
    "delete[] pointer;\n",
    "```"
   ]
  },
  {
   "cell_type": "code",
   "execution_count": null,
   "id": "05e77380-71a0-4f99-a3d9-a44171dc5c88",
   "metadata": {
    "tags": []
   },
   "outputs": [],
   "source": [
    "int * foo;\n",
    "delete[] foo;"
   ]
  },
  {
   "cell_type": "markdown",
   "id": "42f969a6-2a80-4c52-a7f9-f311fa3faaf6",
   "metadata": {},
   "source": [
    "## Dynamic memory in C++\n",
    "\n",
    "C++ integrates the operators new and delete for allocating dynamic memory. But these were not available in the C language; instead, it used a library solution, with the functions malloc, calloc, realloc and free, defined in the header <cstdlib> (known as <stdlib.h> in C). The functions are also available in C++ and can also be used to allocate and deallocate dynamic memory."
   ]
  }
 ],
 "metadata": {
  "kernelspec": {
   "display_name": "C++ 14",
   "language": "cpp",
   "name": "cpp14"
  },
  "language_info": {
   "file_extension": ".cpp",
   "mimetype": "text/markdown",
   "name": "text/markdown"
  },
  "widgets": {
   "application/vnd.jupyter.widget-state+json": {
    "state": {},
    "version_major": 2,
    "version_minor": 0
   }
  }
 },
 "nbformat": 4,
 "nbformat_minor": 5
}
