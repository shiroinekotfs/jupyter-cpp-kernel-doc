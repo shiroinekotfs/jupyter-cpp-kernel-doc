{
 "cells": [
  {
   "cell_type": "markdown",
   "id": "40ebb5df-c185-4abe-be83-b06bdf3acec6",
   "metadata": {},
   "source": [
    "# Data structures\n",
    "\n",
    "A data structure is a group of data elements grouped together under one name. These data elements, known as members, can have different types and different lengths. Data structures can be declared in C++ using the following syntax:\n",
    "\n",
    "```cpp\n",
    "struct type_name {\n",
    "member_type1 member_name1;\n",
    "member_type2 member_name2;\n",
    "member_type3 member_name3;\n",
    "} object_names;\n",
    "```\n",
    "\n",
    "Where type_name is a name for the structure type, object_name can be a set of valid identifiers for objects that have the type of this structure. Within braces `{}`, there is a list with the data members, each one is specified with a type and a valid identifier as its name.\n",
    "\n",
    "For example:\n",
    "\n",
    "```cpp\n",
    "struct product {\n",
    "  int weight;\n",
    "  double price;\n",
    "};\n",
    "\n",
    "product apple;\n",
    "product banana, melon;\n",
    "```\n",
    "\n",
    "Or, you can declares the same method, but faster:\n",
    "\n",
    "```cpp\n",
    "struct product {\n",
    "  int weight;\n",
    "  double price;\n",
    "} apple, banana, melon;\n",
    "```"
   ]
  },
  {
   "cell_type": "code",
   "execution_count": null,
   "id": "ea45dcaa-465a-4f2a-915c-b19d4603a232",
   "metadata": {
    "tags": []
   },
   "outputs": [],
   "source": [
    "struct product {\n",
    "  int weight;\n",
    "  double price;\n",
    "} apple, banana, melon;\n",
    "\n",
    "int main() {\n",
    "\n",
    "}"
   ]
  },
  {
   "cell_type": "markdown",
   "id": "3b7c223a-3820-4646-ad28-1a45f6d282c6",
   "metadata": {},
   "source": [
    "## Use data structures\n",
    "\n",
    "To use data structure, using `.` between the define identifier and data member.\n",
    "\n",
    "For example with the `product` above:\n",
    "\n",
    "```cpp\n",
    "struct product {\n",
    "  int weight;\n",
    "  double price;\n",
    "} apple, banana, melon;\n",
    "\n",
    "int main() {\n",
    "    apple.weight = 5;\n",
    "    apple.price = 2;\n",
    "    banana.weight = 1;\n",
    "    banana.price = 2;\n",
    "    melon.weight = 10;\n",
    "    melon.price = 16;\n",
    "    std::cout << \"Apple weight is: \" << apple.weight;\n",
    "    std::cout << \"Banana price is: \" << banana.price;\n",
    "    std::cout << \"Total money of melon is: \" << melon.weight * melon.price;\n",
    "}\n",
    "```"
   ]
  },
  {
   "cell_type": "code",
   "execution_count": null,
   "id": "ab3a6200-f7c7-454f-9888-8903e67108b2",
   "metadata": {
    "tags": []
   },
   "outputs": [],
   "source": [
    "struct product {\n",
    "  int weight;\n",
    "  double price;\n",
    "} apple, banana, melon;\n",
    "\n",
    "int main() {\n",
    "    apple.weight = 5;\n",
    "    apple.price = 2;\n",
    "    banana.weight = 1;\n",
    "    banana.price = 2;\n",
    "    melon.weight = 10;\n",
    "    melon.price = 16;\n",
    "    std::cout << \"Apple weight is: \" << apple.weight << std::endl;\n",
    "    std::cout << \"Banana price is: \" << banana.price << std::endl;\n",
    "    std::cout << \"Total money of melon is: \" << melon.weight * melon.price << std::endl;\n",
    "}"
   ]
  },
  {
   "cell_type": "markdown",
   "id": "2e7f3a63-b1bd-41fb-a1f3-199d43b69e5e",
   "metadata": {},
   "source": [
    "## Nesting structures\n",
    "\n",
    "Structures can also be nested in such a way that an element of a structure is itself another structure:\n",
    "\n",
    "```cpp\n",
    "struct movies_t {\n",
    "  string title;\n",
    "  int year;\n",
    "};\n",
    "\n",
    "struct friends_t {\n",
    "  string name;\n",
    "  string email;\n",
    "  movies_t favorite_movie;\n",
    "} charlie, maria;\n",
    "\n",
    "friends_t * pfriends = &charlie;\n",
    "```"
   ]
  }
 ],
 "metadata": {
  "kernelspec": {
   "display_name": "C++ 14",
   "language": "cpp",
   "name": "cpp14"
  },
  "language_info": {
   "file_extension": ".cpp",
   "mimetype": "text/markdown",
   "name": "text/markdown"
  },
  "widgets": {
   "application/vnd.jupyter.widget-state+json": {
    "state": {},
    "version_major": 2,
    "version_minor": 0
   }
  }
 },
 "nbformat": 4,
 "nbformat_minor": 5
}
