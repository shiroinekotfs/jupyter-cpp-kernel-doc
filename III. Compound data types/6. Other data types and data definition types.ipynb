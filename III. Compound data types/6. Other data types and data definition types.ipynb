{
 "cells": [
  {
   "cell_type": "markdown",
   "id": "347223d9-1a93-455b-a377-b3e3aa9cd32f",
   "metadata": {},
   "source": [
    "# Other data types and data definition types"
   ]
  },
  {
   "cell_type": "markdown",
   "id": "e77ea492-1c8f-4279-bd4b-dd1a4a668a08",
   "metadata": {},
   "source": [
    "## Type aliases (`typedef`/`using`)\n",
    "\n",
    "A type alias is a different name by which a type can be identified. In C++, any valid type can be aliased so that it can be referred to with a different identifier.\n",
    "\n",
    "In C++, there are two syntaxes for creating such type aliases: The first, inherited from the C language, uses the typedef keyword:\n",
    "\n",
    "```c++\n",
    "typedef existing_type new_type_name;\n",
    "```\n",
    "\n",
    "More recently, a second syntax to define type aliases was introduced in the C++ language:\n",
    "\n",
    "```c++\n",
    "using new_type_name = existing_type;\n",
    "```\n",
    "\n",
    "For example:\n",
    "\n",
    "```c++\n",
    "typedef int integer;\n",
    "using character = char;\n",
    "```\n",
    "\n",
    "Both aliases defined with typedef and aliases defined with using are semantically equivalent. The only difference is that typedef has certain limitations in the realm of templates that use has not. Therefore, using is more generic, although typedef has a longer history and is probably more common in existing code.\n",
    "\n",
    "Note that neither typedef nor using creates new distinct data types. They only create synonyms of existing types. That means that the type of myword above, declared with type WORD, can also be considered of type unsigned int; it does not matter, since both are referring to the same type.\n",
    "\n",
    "Type aliases can be used to reduce the length of long or confusing type names, but they are most useful as tools to abstract programs from the underlying types they use. For example, by using an alias of `int` to refer to a particular kind of parameter instead of using `int` directly, it allows for the type to be easily replaced by long (or some other type) in a later version, without having to change every instance where it is used.\n"
   ]
  },
  {
   "cell_type": "code",
   "execution_count": null,
   "id": "22dc9d82-d11a-4eaf-a88e-1f5af91dcbfa",
   "metadata": {},
   "outputs": [],
   "source": [
    "typedef int integer;\n",
    "using character = char;\n",
    "\n",
    "integer i = 5; character c = 'a';\n",
    "\n",
    "std::cout << i << \" \" << c;"
   ]
  },
  {
   "cell_type": "markdown",
   "id": "15aa0dad-96d0-474d-9608-09e7a6ebbf7e",
   "metadata": {},
   "source": [
    "## Unions\n",
    "\n",
    "Unions allow one portion of memory to be accessed as different data types. Its declaration and use is similar to the one of structures, but its functionality is different:\n",
    "\n",
    "```c++\n",
    "union type_name {\n",
    "  member_type1 member_name1;\n",
    "  member_type2 member_name2;\n",
    "  member_type3 member_name3;\n",
    "  .\n",
    "  .\n",
    "} object_names;\n",
    "```\n",
    "\n",
    "To access to declare each one, you can use this method:\n",
    "\n",
    "```c++\n",
    "object_names.member_name1;\n",
    "object_names.member_name2;\n",
    "object_names.member_name3;\n",
    "```\n",
    "\n",
    "Each of these members is of a different data type. But since all of them are referring to the same location in memory, the modification of one of the members will affect the value of all of them. It is not possible to store different values in them in a way that each is independent of the others.\n"
   ]
  },
  {
   "cell_type": "code",
   "execution_count": null,
   "id": "721e097b-8dd7-48cd-aeb0-e2be7ef0de80",
   "metadata": {},
   "outputs": [],
   "source": [
    "union mytypes_t {\n",
    "  char c;\n",
    "  int i;\n",
    "  float f;\n",
    "} mytypes;\n",
    "\n",
    "mytypes.c = 'a';\n",
    "mytypes.i = 5;\n",
    "mytypes.f = 3.14;"
   ]
  },
  {
   "cell_type": "markdown",
   "id": "d5104634-e9fe-4815-a26f-a782a3e26e0b",
   "metadata": {},
   "source": [
    "## Enumerated types (enum)\n",
    "\n",
    "Enumerated types are types that are defined with a set of custom identifiers, known as enumerators, as possible values. Objects of these enumerated types can take any of these enumerators as value.\n",
    "\n",
    "Their syntax is:\n",
    "\n",
    "```c++\n",
    "enum type_name {\n",
    "  value1,\n",
    "  value2,\n",
    "  value3,\n",
    "  .\n",
    "  .\n",
    "} object_names;\n",
    "```\n",
    "\n",
    "This creates the type type_name, which can take any of value1, value2, value3, ... as value. Objects (variables) of this type can directly be instantiated as object_names.\n",
    "\n",
    "Values of enumerated types declared with enum are implicitly convertible to an integer type. In fact, the elements of such an enum are always assigned an integer numerical equivalent internally, to which they can be implicitly converted to. If it is not specified otherwise, the integer value equivalent to the first possible value is 0, the equivalent to the second is 1, to the third is 2, and so on... \n",
    "\n",
    "For example, a new type of variable called colors_t could be defined to store colors with the following declaration:"
   ]
  },
  {
   "cell_type": "code",
   "execution_count": null,
   "id": "65426327-5a86-4537-ab95-4d8e906d4bc0",
   "metadata": {},
   "outputs": [],
   "source": [
    "enum colors_t {black, blue, green, cyan, red, purple, yellow, white};\n",
    "\n",
    "colors_t mycolor;\n",
    " \n",
    "mycolor = blue;\n",
    "if (mycolor == blue) { mycolor = red; }"
   ]
  },
  {
   "cell_type": "markdown",
   "id": "7a91c1ed-567d-4bc7-aff1-a3df4040b0df",
   "metadata": {},
   "source": [
    "## Enumerated types with enum class\n",
    "\n",
    "But, in C++, it is possible to create real enum types that are neither implicitly convertible to int and that neither have enumerator values of type int, but of the enum type itself, thus preserving type safety. Each of the enumerator values of an enum class type needs to be scoped into its type (this is actually also possible with enum types, but it is only optional).\\\n",
    "\n",
    "For example, with the colors example above, but now with the class:\n"
   ]
  },
  {
   "cell_type": "code",
   "execution_count": null,
   "id": "f9cbc849-cfd2-4c26-88c5-4a66c8a0d542",
   "metadata": {},
   "outputs": [],
   "source": [
    "enum class Colors {black, blue, green, cyan, red, purple, yellow, white};\n",
    "\n",
    "Colors mycolor;\n",
    " \n",
    "mycolor = Colors::blue;\n",
    "if (mycolor == Colors::green) mycolor = Colors::red; "
   ]
  }
 ],
 "metadata": {
  "kernelspec": {
   "display_name": "C++ 14",
   "language": "cpp",
   "name": "cpp14"
  },
  "language_info": {
   "file_extension": ".cpp",
   "mimetype": "text/markdown",
   "name": "text/markdown"
  }
 },
 "nbformat": 4,
 "nbformat_minor": 5
}
