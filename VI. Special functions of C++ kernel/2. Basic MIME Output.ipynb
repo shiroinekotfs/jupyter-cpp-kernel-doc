{
 "cells": [
  {
   "cell_type": "markdown",
   "id": "8b091ce9-93db-4b0c-a99b-478900f25246",
   "metadata": {},
   "source": [
    "# Basic MIME Output\n",
    "\n",
    "Since the update **1.0.0a8**, even more methods to export the MIME types onto Jupyter. It's all `markdown`-based methods."
   ]
  },
  {
   "cell_type": "markdown",
   "id": "1c08d1cb-5f89-4fa9-a6dc-4bea57852d64",
   "metadata": {},
   "source": [
    "## `markdown` output\n",
    "\n",
    "Normally, C++ kernel treats all outputs, then formats them to the `markdown` format.\n",
    "\n",
    "You can see the sample below, to see how it can to this:"
   ]
  },
  {
   "cell_type": "code",
   "execution_count": null,
   "id": "c782a8a2-a6d6-4e21-8548-feda0a64346f",
   "metadata": {
    "tags": []
   },
   "outputs": [],
   "source": [
    "std::cout << \"This is markdown type, where it is **bold**, *italic*\" << std::endl;\n",
    "std::cout << \"# This is biggest header\" << \"\\n\" << \"## This is the smaller one\";"
   ]
  },
  {
   "cell_type": "markdown",
   "id": "ebf2d7ac-0867-43cd-b912-4cbc911e92f5",
   "metadata": {
    "tags": []
   },
   "source": [
    "## Special MIME types output\n",
    "\n",
    "`markdown` output brings unlimited powers in interpreting with C++. However, it brings some troubles that other MME types (e.g. video, audio) require much more effort to try every output. To solve that, we use **extendable** C++ headers that help us to get a better way to print out the C++ outputs.\n",
    "\n",
    "Starting from version **1.0.0a8**, the display namespace for C++ kernel is `_Jupyter_Display`."
   ]
  },
  {
   "cell_type": "markdown",
   "id": "d2477ff8-6fe3-4541-b0bb-532df4a433c1",
   "metadata": {},
   "source": [
    "### `IFrame`\n",
    "\n",
    "To use `IFrame`, you can use this syntax:\n",
    "\n",
    "```c++\n",
    "_Jupyter_Display::IFrame(<IFrame URL Link, or local link>, <width>, <height>);\n",
    "```\n",
    "\n",
    "Where:\n",
    "\n",
    "* `<IFrame URL Link, or local link>` (string): URL Link that supports IFrame displaying. This can be the local link.\n",
    "* `<width>` (string): Width of IFrame (can be in pixel, percent, or pre-defined HTML header). If you leave it empty, the weight is auto. \n",
    "* `<height>` (string): Height of IFrame (can be in pixel, percent, or pre-defined HTML header). If you leave it empty, the height is auto. \n",
    "\n",
    "You can try this sample (big thanks to [Mitsukiyo](https://twitter.com/mitsukiyo_5)):"
   ]
  },
  {
   "cell_type": "code",
   "execution_count": null,
   "id": "6c992c14-11aa-4fe4-8336-b958259ad9d7",
   "metadata": {
    "tags": []
   },
   "outputs": [],
   "source": [
    "_Jupyter_Display::IFrame(\"https://bandcamp.com/EmbeddedPlayer/album=4254430149/size=large/bgcol=ffffff/linkcol=0687f5/tracklist=false/artwork=small/transparent=true/\", \"640\", \"auto\");"
   ]
  },
  {
   "cell_type": "markdown",
   "id": "fbbfaaf2-4ca9-4343-b09e-6777577e3d9d",
   "metadata": {},
   "source": [
    "### `Audio`\n",
    "\n",
    "To use `Audio`, you can use this syntax:\n",
    "\n",
    "```c++\n",
    "_Jupyter_Display::Audio(<Audio URL Link, or local link>);\n",
    "```\n",
    "\n",
    "Where:\n",
    "\n",
    "* `<Audio URL Link, or local link>` (string): URL Link that supports Audio displaying. This can be the local link.\n",
    "\n",
    "You can try the sample below:"
   ]
  },
  {
   "cell_type": "code",
   "execution_count": null,
   "id": "a842f437-2c30-457c-a9f7-aa2a6968a8d5",
   "metadata": {
    "tags": []
   },
   "outputs": [],
   "source": [
    "std::cout << \"This is local music player\\n\";\n",
    "_Jupyter_Display::Audio(\"./mme_samples/music.mp3\");\n",
    "std::cout << \"\\nThis is URL-based music player\\n\";\n",
    "_Jupyter_Display::Audio(\"https://cdn.pixabay.com/download/audio/2023/09/25/audio_b475db93de.mp3\");"
   ]
  },
  {
   "cell_type": "markdown",
   "id": "6bde2b17-7d3e-4b13-b72e-c747851a4e1d",
   "metadata": {},
   "source": [
    "### `Code string`\n",
    "\n",
    "To format a bunch of code, try this syntax:\n",
    "\n",
    "```c++\n",
    "_Jupyter_Display::CodeString(<code>);\n",
    "```\n",
    "\n",
    "Where:\n",
    "\n",
    "* `<code>` (string): Your code, in any format\n",
    "\n",
    "You can try this sample below:"
   ]
  },
  {
   "cell_type": "code",
   "execution_count": null,
   "id": "eaed6fee-4629-44c1-b978-f2645e6ce648",
   "metadata": {
    "tags": []
   },
   "outputs": [],
   "source": [
    "_Jupyter_Display::CodeString(\"std::cout << a;\");"
   ]
  },
  {
   "cell_type": "markdown",
   "id": "d3d620ba-92ed-4fe3-af2d-d27c47e501cd",
   "metadata": {
    "tags": []
   },
   "source": [
    "### `Image`\n",
    "\n",
    "To use `Image`, you can use this syntax:\n",
    "\n",
    "```c++\n",
    "_Jupyter_Display::Image(<Image URL Link, or local link>, <width>, <height>);\n",
    "```\n",
    "\n",
    "Where:\n",
    "\n",
    "* `<Image URL Link, or local link>` (string): URL Link that supports Image displaying. This can be the local link.\n",
    "* `<width>` (string): Width of Image (can be in pixel, percent, or pre-defined HTML header). If you leave it empty, the weight is auto. \n",
    "* `<height>` (string): Height of Image (can be in pixel, percent, or pre-defined HTML header). If you leave it empty, the height is auto. \n",
    "\n",
    "You can try this sample:"
   ]
  },
  {
   "cell_type": "code",
   "execution_count": null,
   "id": "bcccc1bb-cfe7-4fff-a513-02bb19a627b3",
   "metadata": {
    "tags": []
   },
   "outputs": [],
   "source": [
    "std::cout << \"This is local image\\n\";\n",
    "_Jupyter_Display::Image(\"./mme_samples/image.jpg\");\n",
    "std::cout << \"\\nThis is URL-based image\\n\";\n",
    "_Jupyter_Display::Image(\"https://mms.businesswire.com/media/20220920005289/en/1576327/23/heavyrf_mockup_2.jpg\", \"auto\", \"100%\");"
   ]
  },
  {
   "cell_type": "markdown",
   "id": "79753340-8f2e-4916-b4fd-259366e3e888",
   "metadata": {
    "tags": []
   },
   "source": [
    "### `PDF`\n",
    "\n",
    "To use `PDF`, you can use this syntax:\n",
    "\n",
    "```c++\n",
    "_Jupyter_Display::PDF(<PDF URL Link, or local link>, <width>, <height>);\n",
    "```\n",
    "\n",
    "Where:\n",
    "\n",
    "* `<PDF URL Link, or local link>` (string): PDF Link that supports PDF displaying. This can be the local link.\n",
    "* `<width>` (string): Width of PDF (can be in pixel, percent, or pre-defined HTML header). If you leave it empty, the weight is auto. \n",
    "* `<height>` (string): Height of PDF (can be in pixel, percent, or pre-defined HTML header). If you leave it empty, the height is auto. \n",
    "\n",
    "You can try this sample:"
   ]
  },
  {
   "cell_type": "code",
   "execution_count": null,
   "id": "04e6b89e-ef4f-47da-a61f-cd4ac044fd50",
   "metadata": {
    "tags": []
   },
   "outputs": [],
   "source": [
    "std::cout << \"This is local PDF file\\n\";\n",
    "_Jupyter_Display::PDF(\"mme_samples/pdffile.pdf/\", \"1280\", \"720\");\n",
    "std::cout << \"\\nThis is URL-based PDF file\\n\";\n",
    "_Jupyter_Display::PDF(\"https://www.airbus.com/sites/g/files/jlcbta136/files/2021-07/Airbus-AnnualReport-Overview-2020.pdf\", \"1280\", \"720\");"
   ]
  },
  {
   "cell_type": "markdown",
   "id": "18fe9261-023d-4405-a54f-2cfc85eabed7",
   "metadata": {
    "tags": []
   },
   "source": [
    "### `Video`\n",
    "\n",
    "To use `Video`, you can use this syntax:\n",
    "\n",
    "```c++\n",
    "_Jupyter_Display::Video(<Video URL Link, or local link>, <width>, <height>);\n",
    "```\n",
    "\n",
    "Where:\n",
    "\n",
    "* `<Video URL Link, or local link>` (string): Video Link that supports Video displaying. This can be the local link.\n",
    "* `<width>` (string): Width of Video (can be in pixel, percent, or pre-defined HTML header). If you leave it empty, the weight is auto. \n",
    "* `<height>` (string): Height of Video (can be in pixel, percent, or pre-defined HTML header). If you leave it empty, the height is auto. \n",
    "\n",
    "You can try this sample:"
   ]
  },
  {
   "cell_type": "code",
   "execution_count": null,
   "id": "2c2ddcdb-b353-4d64-b4f2-72f14f5a85e6",
   "metadata": {
    "tags": []
   },
   "outputs": [],
   "source": [
    "_Jupyter_Display::Video(\"https://media.istockphoto.com/id/1448515457/vi/video/nh%C3%ACn-t%E1%BB%AB-tr%C3%AAn-kh%C3%B4ng-c%E1%BB%A7a-%C4%91%C6%B0%E1%BB%9Dng-cao-t%E1%BB%91c-c%E1%BA%A7u-%C4%91%C6%B0%E1%BB%9Dng-b%E1%BB%99-qua-s%C3%B4ng-trong-khu-v%E1%BB%B1c-th%C3%A0nh-ph%E1%BB%91-xe-t%E1%BA%A3i.mp4?s=mp4-640x640-is&k=20&c=7wPUEVrnN-H1a_BFCDTHMg61ZESsKfVIFQdBICisyOM=\", \"1280\", \"720\");"
   ]
  },
  {
   "cell_type": "markdown",
   "id": "3edbf898-9a69-48f7-8710-2747fe80bab8",
   "metadata": {},
   "source": [
    "### `YouTube Video link`\n",
    "\n",
    "To use `YouTube Video link`, you can use this syntax:\n",
    "\n",
    "```c++\n",
    "_Jupyter_Display::YouTubePlayer(<YouTube Video URL Link, or local link>, <width>, <height>);\n",
    "```\n",
    "\n",
    "Where:\n",
    "\n",
    "* `<YouTube Video URL Link, or local link>` (string): YouTube Video Link that supports Video displaying. This can be the local link.\n",
    "* `<width>` (string): Width of Video (can be in pixel, percent, or pre-defined HTML header). If you leave it empty, the weight is auto. \n",
    "* `<height>` (string): Height of Video (can be in pixel, percent, or pre-defined HTML header). If you leave it empty, the height is auto. \n",
    "\n",
    "You can try this sample:"
   ]
  },
  {
   "cell_type": "code",
   "execution_count": null,
   "id": "68b70691-f10b-4bbc-b34c-77d984861c7d",
   "metadata": {
    "tags": []
   },
   "outputs": [],
   "source": [
    "_Jupyter_Display::YouTubePlayer(\"https://youtu.be/wKKM0MTlv9U?si=TEMAdjdipmp16S_O\", \"1280\", \"720\"); //I love this video lol"
   ]
  },
  {
   "cell_type": "markdown",
   "id": "534d072b-4bbb-41fd-9503-363952c052c6",
   "metadata": {},
   "source": [
    "### `ProgressBar`\n",
    "\n",
    "To print out the `ProgressBar`, you can try this code:\n",
    "\n",
    "```c++\n",
    "_Jupyter_Display::ProgressBar(<progress>, <html_width>, <maxvalue>);\n",
    "```\n",
    "\n",
    "Where:\n",
    "\n",
    "* `<progress>` (string): Your code, in any format\n",
    "* `<html_width` (string): Progress Bar width (default: auto)\n",
    "* `<maxvalue>` (string): Maximum value of progress bar (default: 100)\n",
    "\n",
    "You can try this sample below:\n"
   ]
  },
  {
   "cell_type": "code",
   "execution_count": null,
   "id": "a3170ef5-fb54-494a-8f4f-dc0b3e26eee0",
   "metadata": {},
   "outputs": [],
   "source": [
    "_Jupyter_Display::ProgressBar(\"35\", \"auto\", \"100\");"
   ]
  },
  {
   "cell_type": "markdown",
   "id": "37a7f921-f064-4bf7-9aea-5b7b33389cb7",
   "metadata": {},
   "source": [
    "## `JSON`\n",
    "\n",
    "To print out a JSON file, you can try this code:\n",
    "\n",
    "```c++\n",
    "_Jupyter_Display::ProgressBar(<jsonfile>, <width>, <height>)\n",
    "```\n",
    "\n",
    "Where:\n",
    "\n",
    "* `<jsonfile>` (string): Your path to the JSON file\n",
    "* `<width>` (string): Width of JSON (can be in pixel, percent, or pre-defined HTML header). If you leave it empty, the weight is auto.\n",
    "* `<height>` (string): Height of JSON (can be in pixel, percent, or pre-defined HTML header). If you leave it empty, the height is auto.\n",
    "\n",
    "You can try this sample below:"
   ]
  },
  {
   "cell_type": "code",
   "execution_count": null,
   "id": "57d38401-21f6-40ed-a64c-3937882dbbb8",
   "metadata": {},
   "outputs": [],
   "source": [
    "std::cout << \"This is a JSON file\\n\";\n",
    "_Jupyter_Display::JSON(\"mme_samples/jsonfile.json/\", \"1280\", \"720\");"
   ]
  },
  {
   "cell_type": "markdown",
   "id": "fb262d62-8937-4318-8789-c5a6dc75a4e8",
   "metadata": {},
   "source": [
    "## `Javascript`\n",
    "\n",
    "To print out a JS file, you can try this code:\n",
    "\n",
    "```c++\n",
    "_Jupyter_Display::Javascript(<jsfile>, <width>, <height>)\n",
    "```\n",
    "\n",
    "Where:\n",
    "\n",
    "* `<jsfile>` (string): Your path to the JS file\n",
    "* `<width>` (string): Width of JS (can be in pixel, percent, or pre-defined HTML header). If you leave it empty, the weight is auto.\n",
    "* `<height>` (string): Height of JS (can be in pixel, percent, or pre-defined HTML header). If you leave it empty, the height is auto.\n",
    "\n",
    "You can try this sample below:"
   ]
  },
  {
   "cell_type": "code",
   "execution_count": null,
   "id": "28c18748-6e64-4039-9d47-3316dfdd468d",
   "metadata": {},
   "outputs": [],
   "source": [
    "_Jupyter_Display::Javascript(\"mme_samples/jsfile.js\", \"auto\", \"100\");"
   ]
  },
  {
   "cell_type": "markdown",
   "id": "f8842b92-4f17-4bb8-a811-16c0642ff8c1",
   "metadata": {},
   "source": [
    "## `GeoJSON`\n",
    "\n",
    "To print out a GeoJSON file, you can try this code:\n",
    "\n",
    "```c++\n",
    "_Jupyter_Display::GeoJSON(<geojsonfile>, <width>, <height>)\n",
    "```\n",
    "\n",
    "Where:\n",
    "\n",
    "* `<geojsonfile>` (string): Your path to the GeoJSON file\n",
    "* `<width>` (string): Width of GeoJSON (can be in pixel, percent, or pre-defined HTML header). If you leave it empty, the weight is auto.\n",
    "* `<height>` (string): Height of GeoJSON (can be in pixel, percent, or pre-defined HTML header). If you leave it empty, the height is auto.\n",
    "\n",
    "You can try this sample below:"
   ]
  },
  {
   "cell_type": "code",
   "execution_count": null,
   "id": "a79c54c4-d818-41ff-8f37-e37cd507537f",
   "metadata": {},
   "outputs": [],
   "source": [
    "_Jupyter_Display::GeoJSON(\"mme_samples/geojson.json\", \"1280\", \"720\");"
   ]
  },
  {
   "cell_type": "markdown",
   "id": "1b3429ce-3ab3-4186-9b61-dd2e47ab1afb",
   "metadata": {},
   "source": [
    "## `OBJ`\n",
    "\n",
    "To print out an OBJ file, you can try this code:\n",
    "\n",
    "```c++\n",
    "_Jupyter_Display::OBJ(<OBJFile>, <width>, <height>)\n",
    "```\n",
    "\n",
    "Where:\n",
    "\n",
    "* `<jsfile>` (string): Your path to the OBJ file\n",
    "* `<width>` (string): Width of OBJ (can be in pixel, percent, or pre-defined HTML header). If you leave it empty, the weight is auto.\n",
    "* `<height>` (string): Height of OBJ (can be in pixel, percent, or pre-defined HTML header). If you leave it empty, the height is auto.\n",
    "\n",
    "You can try this sample below:"
   ]
  },
  {
   "cell_type": "code",
   "execution_count": null,
   "id": "6cc70001-ed1b-40b1-81c7-da1707c5c3c2",
   "metadata": {},
   "outputs": [],
   "source": [
    "_Jupyter_Display::OBJ(\"mme_samples/human_cell.obj\", \"1280\", \"720\");"
   ]
  },
  {
   "cell_type": "markdown",
   "id": "2036f563-d69a-46f2-851e-2daafc849272",
   "metadata": {},
   "source": [
    "## `PlainText`\n",
    "\n",
    "To print out a PlainText file, you can try this code:\n",
    "\n",
    "```c++\n",
    "_Jupyter_Display::PlainText(<PlainTextFile>, <width>, <height>)\n",
    "```\n",
    "\n",
    "Where:\n",
    "\n",
    "* `<plaintextfile>` (string): Your path to the PlainText file\n",
    "* `<width>` (string): Width of PlainText (can be in pixel, percent, or pre-defined HTML header). If you leave it empty, the weight is auto.\n",
    "* `<height>` (string): Height of PlainText (can be in pixel, percent, or pre-defined HTML header). If you leave it empty, the height is auto.\n",
    "\n",
    "You can try this sample below:"
   ]
  },
  {
   "cell_type": "code",
   "execution_count": null,
   "id": "92293db0-801e-4dfa-8592-f188d4e0e65b",
   "metadata": {},
   "outputs": [],
   "source": [
    "_Jupyter_Display::PlainText(\"mme_samples/plaintext.txt\", \"620\", \"320\");"
   ]
  },
  {
   "cell_type": "markdown",
   "id": "7130af15-9cc5-499f-b25f-95ea3c44341b",
   "metadata": {},
   "source": [
    "## `LaTex`\n",
    "\n",
    "To print out a LaTex file, you can try this code:\n",
    "\n",
    "```c++\n",
    "_Jupyter_Display::LaTex(<LaTexFile>, <width>, <height>)\n",
    "```\n",
    "\n",
    "Where:\n",
    "\n",
    "* `<LaTexfile>` (string): Your path to the LaTex file\n",
    "* `<width>` (string): Width of LaTex (can be in pixel, percent, or pre-defined HTML header). If you leave it empty, the weight is auto.\n",
    "* `<height>` (string): Height of LaTex (can be in pixel, percent, or pre-defined HTML header). If you leave it empty, the height is auto.\n",
    "\n",
    "You can try this sample below:"
   ]
  },
  {
   "cell_type": "code",
   "execution_count": null,
   "id": "9199120c-5dbe-4a4d-a8e1-e9357508d934",
   "metadata": {},
   "outputs": [],
   "source": [
    "_Jupyter_Display::LaTex(\"mme_samples/taylor.tex\", \"620\", \"320\");"
   ]
  },
  {
   "cell_type": "markdown",
   "id": "b036bace-53c3-4e2e-97d3-d71f1a9dc57d",
   "metadata": {},
   "source": [
    "## `HTML`\n",
    "\n",
    "To print out an HTML file, you can try this code:\n",
    "\n",
    "```c++\n",
    "_Jupyter_Display::HTML(<HTMLFile>, <width>, <height>)\n",
    "```\n",
    "\n",
    "Where:\n",
    "\n",
    "* `<HTMLfile>` (string): Your path to the HTML file\n",
    "* `<width>` (string): Width of HTML (can be in pixel, percent, or pre-defined HTML header). If you leave it empty, the weight is auto.\n",
    "* `<height>` (string): Height of HTML (can be in pixel, percent, or pre-defined HTML header). If you leave it empty, the height is auto.\n",
    "\n",
    "You can try this sample below:"
   ]
  },
  {
   "cell_type": "code",
   "execution_count": null,
   "id": "2ba6f800-dfc1-4261-a71c-a1355114e6a6",
   "metadata": {},
   "outputs": [],
   "source": [
    "_Jupyter_Display::HTML(\"mme_samples/sample.html\", \"620\", \"320\");"
   ]
  },
  {
   "cell_type": "markdown",
   "id": "4de1ab2c-17d3-4879-ace0-d14293b074a6",
   "metadata": {},
   "source": [
    "## `CSV`\n",
    "\n",
    "To print out a CSV file, you can try this code:\n",
    "\n",
    "```c++\n",
    "_Jupyter_Display::CSV(<CSVFile>, <width>, <height>)\n",
    "```\n",
    "\n",
    "Where:\n",
    "\n",
    "* `<CSVfile>` (string): Your path to the CSV file\n",
    "* `<width>` (string): Width of CSV (can be in pixel, percent, or pre-defined HTML header). If you leave it empty, the weight is auto.\n",
    "* `<height>` (string): Height of CSV (can be in pixel, percent, or pre-defined HTML header). If you leave it empty, the height is auto.\n",
    "\n",
    "You can try this sample below:"
   ]
  },
  {
   "cell_type": "code",
   "execution_count": null,
   "id": "34041a8a-28eb-4a37-9c2a-701b4677a041",
   "metadata": {},
   "outputs": [],
   "source": [
    "_Jupyter_Display::CSV(\"mme_samples/Airports.csv\", \"620\", \"320\");"
   ]
  }
 ],
 "metadata": {
  "kernelspec": {
   "display_name": "C++ 14",
   "language": "C++",
   "name": "cpp14"
  },
  "language_info": {
   "file_extension": ".cpp",
   "mimetype": "text/markdown",
   "name": "text/markdown"
  },
  "widgets": {
   "application/vnd.jupyter.widget-state+json": {
    "state": {},
    "version_major": 2,
    "version_minor": 0
   }
  }
 },
 "nbformat": 4,
 "nbformat_minor": 5
}
